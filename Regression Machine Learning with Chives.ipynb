{
 "cells": [
  {
   "cell_type": "code",
   "execution_count": null,
   "id": "e7757b6b-8783-40d0-aab7-a835bae4200a",
   "metadata": {},
   "outputs": [
    {
     "name": "stdout",
     "output_type": "stream",
     "text": [
      "Requirement already satisfied: keras~=3.8.0 in c:\\users\\doryd\\anaconda3\\lib\\site-packages (3.8.0)\n",
      "Requirement already satisfied: matplotlib~=3.10.0 in c:\\users\\doryd\\anaconda3\\lib\\site-packages (3.10.3)\n",
      "Requirement already satisfied: pandas~=2.2.0 in c:\\users\\doryd\\anaconda3\\lib\\site-packages (2.2.2)\n",
      "Requirement already satisfied: tensorflow~=2.18.0 in c:\\users\\doryd\\anaconda3\\lib\\site-packages (2.18.1)\n",
      "Requirement already satisfied: absl-py in c:\\users\\doryd\\anaconda3\\lib\\site-packages (from keras~=3.8.0) (2.3.0)\n",
      "Requirement already satisfied: numpy in c:\\users\\doryd\\anaconda3\\lib\\site-packages (from keras~=3.8.0) (1.26.4)\n",
      "Requirement already satisfied: rich in c:\\users\\doryd\\anaconda3\\lib\\site-packages (from keras~=3.8.0) (13.7.1)\n",
      "Requirement already satisfied: namex in c:\\users\\doryd\\anaconda3\\lib\\site-packages (from keras~=3.8.0) (0.1.0)\n",
      "Requirement already satisfied: h5py in c:\\users\\doryd\\anaconda3\\lib\\site-packages (from keras~=3.8.0) (3.11.0)\n",
      "Requirement already satisfied: optree in c:\\users\\doryd\\anaconda3\\lib\\site-packages (from keras~=3.8.0) (0.16.0)\n",
      "Requirement already satisfied: ml-dtypes in c:\\users\\doryd\\anaconda3\\lib\\site-packages (from keras~=3.8.0) (0.5.1)\n",
      "Requirement already satisfied: packaging in c:\\users\\doryd\\anaconda3\\lib\\site-packages (from keras~=3.8.0) (24.1)\n",
      "Requirement already satisfied: contourpy>=1.0.1 in c:\\users\\doryd\\anaconda3\\lib\\site-packages (from matplotlib~=3.10.0) (1.3.2)\n",
      "Requirement already satisfied: cycler>=0.10 in c:\\users\\doryd\\anaconda3\\lib\\site-packages (from matplotlib~=3.10.0) (0.11.0)\n",
      "Requirement already satisfied: fonttools>=4.22.0 in c:\\users\\doryd\\anaconda3\\lib\\site-packages (from matplotlib~=3.10.0) (4.51.0)\n",
      "Requirement already satisfied: kiwisolver>=1.3.1 in c:\\users\\doryd\\anaconda3\\lib\\site-packages (from matplotlib~=3.10.0) (1.4.4)\n",
      "Requirement already satisfied: pillow>=8 in c:\\users\\doryd\\anaconda3\\lib\\site-packages (from matplotlib~=3.10.0) (10.4.0)\n",
      "Requirement already satisfied: pyparsing>=2.3.1 in c:\\users\\doryd\\anaconda3\\lib\\site-packages (from matplotlib~=3.10.0) (3.1.2)\n",
      "Requirement already satisfied: python-dateutil>=2.7 in c:\\users\\doryd\\anaconda3\\lib\\site-packages (from matplotlib~=3.10.0) (2.9.0.post0)\n",
      "Requirement already satisfied: pytz>=2020.1 in c:\\users\\doryd\\anaconda3\\lib\\site-packages (from pandas~=2.2.0) (2024.1)\n",
      "Requirement already satisfied: tzdata>=2022.7 in c:\\users\\doryd\\anaconda3\\lib\\site-packages (from pandas~=2.2.0) (2023.3)\n",
      "Requirement already satisfied: astunparse>=1.6.0 in c:\\users\\doryd\\anaconda3\\lib\\site-packages (from tensorflow~=2.18.0) (1.6.3)\n",
      "Requirement already satisfied: flatbuffers>=24.3.25 in c:\\users\\doryd\\anaconda3\\lib\\site-packages (from tensorflow~=2.18.0) (25.2.10)\n",
      "Requirement already satisfied: gast!=0.5.0,!=0.5.1,!=0.5.2,>=0.2.1 in c:\\users\\doryd\\anaconda3\\lib\\site-packages (from tensorflow~=2.18.0) (0.6.0)\n",
      "Requirement already satisfied: google-pasta>=0.1.1 in c:\\users\\doryd\\anaconda3\\lib\\site-packages (from tensorflow~=2.18.0) (0.2.0)\n",
      "Requirement already satisfied: libclang>=13.0.0 in c:\\users\\doryd\\anaconda3\\lib\\site-packages (from tensorflow~=2.18.0) (18.1.1)\n",
      "Requirement already satisfied: opt-einsum>=2.3.2 in c:\\users\\doryd\\anaconda3\\lib\\site-packages (from tensorflow~=2.18.0) (3.4.0)\n",
      "Requirement already satisfied: protobuf!=4.21.0,!=4.21.1,!=4.21.2,!=4.21.3,!=4.21.4,!=4.21.5,<6.0.0dev,>=3.20.3 in c:\\users\\doryd\\anaconda3\\lib\\site-packages (from tensorflow~=2.18.0) (4.25.3)\n",
      "Requirement already satisfied: requests<3,>=2.21.0 in c:\\users\\doryd\\anaconda3\\lib\\site-packages (from tensorflow~=2.18.0) (2.32.3)\n",
      "Requirement already satisfied: setuptools in c:\\users\\doryd\\anaconda3\\lib\\site-packages (from tensorflow~=2.18.0) (75.1.0)\n",
      "Requirement already satisfied: six>=1.12.0 in c:\\users\\doryd\\anaconda3\\lib\\site-packages (from tensorflow~=2.18.0) (1.16.0)\n",
      "Requirement already satisfied: termcolor>=1.1.0 in c:\\users\\doryd\\anaconda3\\lib\\site-packages (from tensorflow~=2.18.0) (3.1.0)\n",
      "Requirement already satisfied: typing-extensions>=3.6.6 in c:\\users\\doryd\\anaconda3\\lib\\site-packages (from tensorflow~=2.18.0) (4.11.0)\n",
      "Requirement already satisfied: wrapt>=1.11.0 in c:\\users\\doryd\\anaconda3\\lib\\site-packages (from tensorflow~=2.18.0) (1.14.1)\n",
      "Requirement already satisfied: grpcio<2.0,>=1.24.3 in c:\\users\\doryd\\anaconda3\\lib\\site-packages (from tensorflow~=2.18.0) (1.72.1)\n",
      "Requirement already satisfied: tensorboard<2.19,>=2.18 in c:\\users\\doryd\\anaconda3\\lib\\site-packages (from tensorflow~=2.18.0) (2.18.0)\n",
      "Requirement already satisfied: wheel<1.0,>=0.23.0 in c:\\users\\doryd\\anaconda3\\lib\\site-packages (from astunparse>=1.6.0->tensorflow~=2.18.0) (0.44.0)\n",
      "Requirement already satisfied: charset-normalizer<4,>=2 in c:\\users\\doryd\\anaconda3\\lib\\site-packages (from requests<3,>=2.21.0->tensorflow~=2.18.0) (3.3.2)\n",
      "Requirement already satisfied: idna<4,>=2.5 in c:\\users\\doryd\\anaconda3\\lib\\site-packages (from requests<3,>=2.21.0->tensorflow~=2.18.0) (3.7)\n",
      "Requirement already satisfied: urllib3<3,>=1.21.1 in c:\\users\\doryd\\anaconda3\\lib\\site-packages (from requests<3,>=2.21.0->tensorflow~=2.18.0) (2.2.3)\n",
      "Requirement already satisfied: certifi>=2017.4.17 in c:\\users\\doryd\\anaconda3\\lib\\site-packages (from requests<3,>=2.21.0->tensorflow~=2.18.0) (2025.4.26)\n",
      "Requirement already satisfied: markdown>=2.6.8 in c:\\users\\doryd\\anaconda3\\lib\\site-packages (from tensorboard<2.19,>=2.18->tensorflow~=2.18.0) (3.4.1)\n",
      "Requirement already satisfied: tensorboard-data-server<0.8.0,>=0.7.0 in c:\\users\\doryd\\anaconda3\\lib\\site-packages (from tensorboard<2.19,>=2.18->tensorflow~=2.18.0) (0.7.2)\n",
      "Requirement already satisfied: werkzeug>=1.0.1 in c:\\users\\doryd\\anaconda3\\lib\\site-packages (from tensorboard<2.19,>=2.18->tensorflow~=2.18.0) (3.0.3)\n",
      "Requirement already satisfied: markdown-it-py>=2.2.0 in c:\\users\\doryd\\anaconda3\\lib\\site-packages (from rich->keras~=3.8.0) (2.2.0)\n",
      "Requirement already satisfied: pygments<3.0.0,>=2.13.0 in c:\\users\\doryd\\anaconda3\\lib\\site-packages (from rich->keras~=3.8.0) (2.15.1)\n",
      "Requirement already satisfied: mdurl~=0.1 in c:\\users\\doryd\\anaconda3\\lib\\site-packages (from markdown-it-py>=2.2.0->rich->keras~=3.8.0) (0.1.0)\n",
      "Requirement already satisfied: MarkupSafe>=2.1.1 in c:\\users\\doryd\\anaconda3\\lib\\site-packages (from werkzeug>=1.0.1->tensorboard<2.19,>=2.18->tensorflow~=2.18.0) (2.1.3)\n"
     ]
    },
    {
     "name": "stderr",
     "output_type": "stream",
     "text": [
      "WARNING: Ignoring invalid distribution ~atplotlib (C:\\Users\\doryd\\anaconda3\\Lib\\site-packages)\n",
      "WARNING: Ignoring invalid distribution ~atplotlib (C:\\Users\\doryd\\anaconda3\\Lib\\site-packages)\n",
      "WARNING: Ignoring invalid distribution ~atplotlib (C:\\Users\\doryd\\anaconda3\\Lib\\site-packages)\n"
     ]
    },
    {
     "name": "stdout",
     "output_type": "stream",
     "text": [
      "^C\n",
      "Found existing installation: numpy 1.26.4\n",
      "Uninstalling numpy-1.26.4:\n",
      "  Would remove:\n",
      "    c:\\users\\doryd\\anaconda3\\lib\\site-packages\\numpy-1.26.4-cp312-cp312-win_amd64.whl\n",
      "    c:\\users\\doryd\\anaconda3\\lib\\site-packages\\numpy-1.26.4.dist-info\\*\n",
      "    c:\\users\\doryd\\anaconda3\\lib\\site-packages\\numpy.libs\\libopenblas64__v0.3.23-293-gc2f4bdbb-gcc_10_3_0-2bde3a66a51006b2b53eb373ff767a3f.dll\n",
      "    c:\\users\\doryd\\anaconda3\\lib\\site-packages\\numpy\\*\n",
      "    c:\\users\\doryd\\anaconda3\\scripts\\f2py.exe\n",
      "Proceed (Y/n)? \n"
     ]
    }
   ],
   "source": [
    "#@title Install required libraries\n",
    "\n",
    "!pip install keras~=3.8.0 \\\n",
    "  matplotlib~=3.10.0 \\\n",
    "  pandas~=2.2.0 \\\n",
    "  tensorflow~=2.18.0\n",
    "!pip uninstall numpy\n",
    "!pip install numpy==1.26.4"
   ]
  },
  {
   "cell_type": "code",
   "execution_count": 33,
   "id": "ca6b5270-eecc-4d7d-be6b-3f6468efb45c",
   "metadata": {},
   "outputs": [],
   "source": [
    "#general\n",
    "import io\n",
    "\n",
    "\n",
    "# data\n",
    "\n",
    "import pandas as pd\n",
    "\n",
    "# machine learning\n",
    "import keras\n",
    "\n",
    "# data visualization\n",
    "import plotly.express as px\n",
    "from plotly.subplots import make_subplots\n",
    "import plotly.graph_objects as go\n",
    "import seaborn as sns"
   ]
  },
  {
   "cell_type": "code",
   "execution_count": 40,
   "id": "fe27864c-3bd3-4606-8270-31f4d218d410",
   "metadata": {},
   "outputs": [
    {
     "name": "stdout",
     "output_type": "stream",
     "text": [
      "         geoid  treeChng  treeCCov17  treeCCov10  HeathDeath_Percent  \\\n",
      "0  17031291600    -0.227       11.56   11.790699                3.27   \n",
      "1  17031580200     0.152       13.51   13.359938                0.61   \n",
      "2  17031590500    -2.953       23.67   26.621697                1.23   \n",
      "3  17031590700     0.065        8.81    8.744273                1.23   \n",
      "4  17031610400     0.695       12.05   11.352496                2.45   \n",
      "\n",
      "   leadPoisonR      ndvi  trees_n  trees_crown_den  socvlnIndx  ...  \\\n",
      "0     2.457265  0.192543      453             11.8        63.9  ...   \n",
      "1     1.559934  0.226763     1588             12.8        80.4  ...   \n",
      "2     0.319489  0.405935     2093             27.8        80.7  ...   \n",
      "3     0.319489  0.188116     1330              7.9        81.1  ...   \n",
      "4     2.498216  0.210973      339              9.7        93.2  ...   \n",
      "\n",
      "                      dsplcPresr  chwAirTemp  chwHeatAve  chwHeatMax  \\\n",
      "0      Vulnerable, Prices Rising   84.291567   88.925354   99.392030   \n",
      "1  Vulnerable, Prices Not Rising   84.618429   89.329550  100.217085   \n",
      "2      Vulnerable, Prices Rising   84.049685   89.217986  100.277585   \n",
      "3  Vulnerable, Prices Not Rising   84.664682   89.646494  100.843714   \n",
      "4  Vulnerable, Prices Not Rising   84.633101   89.359183  100.680754   \n",
      "\n",
      "   eclipsPM25  lungCRt17  physRt17  adAsthma17  cancerRt17  hyptRt17  \n",
      "0   11.189418  91.371638      25.2        10.0  616.154834      29.7  \n",
      "1   11.015970  44.322032      35.8        11.5  366.897263      15.8  \n",
      "2   10.578465  46.114989      24.0         NaN  439.724737      32.7  \n",
      "3   10.631154  46.114989      24.0         NaN  439.724737      32.7  \n",
      "4   11.241585  67.220631      32.0        10.5  474.576120      23.1  \n",
      "\n",
      "[5 rows x 55 columns]\n"
     ]
    }
   ],
   "source": [
    "chives = \"https://chichives.com/csv/chives-data-public.csv\" \n",
    "df = pd.read_csv(chives)\n",
    "\n",
    "print(df.head())"
   ]
  },
  {
   "cell_type": "code",
   "execution_count": 47,
   "id": "a61ab76b-4aa4-49ee-a41c-2a852d0ea63f",
   "metadata": {},
   "outputs": [
    {
     "name": "stdout",
     "output_type": "stream",
     "text": [
      "Read dataset completed successfully.\n",
      "Total number of rows: 801\n",
      "\n",
      "\n"
     ]
    },
    {
     "data": {
      "text/html": [
       "<div>\n",
       "<style scoped>\n",
       "    .dataframe tbody tr th:only-of-type {\n",
       "        vertical-align: middle;\n",
       "    }\n",
       "\n",
       "    .dataframe tbody tr th {\n",
       "        vertical-align: top;\n",
       "    }\n",
       "\n",
       "    .dataframe thead th {\n",
       "        text-align: right;\n",
       "    }\n",
       "</style>\n",
       "<table border=\"1\" class=\"dataframe\">\n",
       "  <thead>\n",
       "    <tr style=\"text-align: right;\">\n",
       "      <th></th>\n",
       "      <th>chwAirTemp</th>\n",
       "      <th>trees_n</th>\n",
       "      <th>ndvi</th>\n",
       "      <th>trees_crown_den</th>\n",
       "      <th>treeCCov10</th>\n",
       "    </tr>\n",
       "  </thead>\n",
       "  <tbody>\n",
       "    <tr>\n",
       "      <th>0</th>\n",
       "      <td>84.291567</td>\n",
       "      <td>453</td>\n",
       "      <td>0.192543</td>\n",
       "      <td>11.8</td>\n",
       "      <td>11.790699</td>\n",
       "    </tr>\n",
       "    <tr>\n",
       "      <th>1</th>\n",
       "      <td>84.618429</td>\n",
       "      <td>1588</td>\n",
       "      <td>0.226763</td>\n",
       "      <td>12.8</td>\n",
       "      <td>13.359938</td>\n",
       "    </tr>\n",
       "    <tr>\n",
       "      <th>2</th>\n",
       "      <td>84.049685</td>\n",
       "      <td>2093</td>\n",
       "      <td>0.405935</td>\n",
       "      <td>27.8</td>\n",
       "      <td>26.621697</td>\n",
       "    </tr>\n",
       "    <tr>\n",
       "      <th>3</th>\n",
       "      <td>84.664682</td>\n",
       "      <td>1330</td>\n",
       "      <td>0.188116</td>\n",
       "      <td>7.9</td>\n",
       "      <td>8.744273</td>\n",
       "    </tr>\n",
       "    <tr>\n",
       "      <th>4</th>\n",
       "      <td>84.633101</td>\n",
       "      <td>339</td>\n",
       "      <td>0.210973</td>\n",
       "      <td>9.7</td>\n",
       "      <td>11.352496</td>\n",
       "    </tr>\n",
       "    <tr>\n",
       "      <th>...</th>\n",
       "      <td>...</td>\n",
       "      <td>...</td>\n",
       "      <td>...</td>\n",
       "      <td>...</td>\n",
       "      <td>...</td>\n",
       "    </tr>\n",
       "    <tr>\n",
       "      <th>195</th>\n",
       "      <td>84.914200</td>\n",
       "      <td>3150</td>\n",
       "      <td>0.287293</td>\n",
       "      <td>14.3</td>\n",
       "      <td>14.475939</td>\n",
       "    </tr>\n",
       "    <tr>\n",
       "      <th>196</th>\n",
       "      <td>84.627115</td>\n",
       "      <td>2233</td>\n",
       "      <td>0.273480</td>\n",
       "      <td>12.2</td>\n",
       "      <td>12.728967</td>\n",
       "    </tr>\n",
       "    <tr>\n",
       "      <th>197</th>\n",
       "      <td>84.358398</td>\n",
       "      <td>3683</td>\n",
       "      <td>0.327259</td>\n",
       "      <td>19.8</td>\n",
       "      <td>19.535158</td>\n",
       "    </tr>\n",
       "    <tr>\n",
       "      <th>198</th>\n",
       "      <td>84.843311</td>\n",
       "      <td>3144</td>\n",
       "      <td>0.332231</td>\n",
       "      <td>15.8</td>\n",
       "      <td>15.744585</td>\n",
       "    </tr>\n",
       "    <tr>\n",
       "      <th>199</th>\n",
       "      <td>84.978770</td>\n",
       "      <td>1673</td>\n",
       "      <td>0.315579</td>\n",
       "      <td>15.5</td>\n",
       "      <td>16.297445</td>\n",
       "    </tr>\n",
       "  </tbody>\n",
       "</table>\n",
       "<p>200 rows × 5 columns</p>\n",
       "</div>"
      ],
      "text/plain": [
       "     chwAirTemp  trees_n      ndvi  trees_crown_den  treeCCov10\n",
       "0     84.291567      453  0.192543             11.8   11.790699\n",
       "1     84.618429     1588  0.226763             12.8   13.359938\n",
       "2     84.049685     2093  0.405935             27.8   26.621697\n",
       "3     84.664682     1330  0.188116              7.9    8.744273\n",
       "4     84.633101      339  0.210973              9.7   11.352496\n",
       "..          ...      ...       ...              ...         ...\n",
       "195   84.914200     3150  0.287293             14.3   14.475939\n",
       "196   84.627115     2233  0.273480             12.2   12.728967\n",
       "197   84.358398     3683  0.327259             19.8   19.535158\n",
       "198   84.843311     3144  0.332231             15.8   15.744585\n",
       "199   84.978770     1673  0.315579             15.5   16.297445\n",
       "\n",
       "[200 rows x 5 columns]"
      ]
     },
     "execution_count": 47,
     "metadata": {},
     "output_type": "execute_result"
    }
   ],
   "source": [
    "#@title Code - Read dataset\n",
    "\n",
    "# Updates dataframe to use specific columns.\n",
    "training_df = df[['chwAirTemp','trees_n', 'ndvi', 'trees_crown_den', 'treeCCov10']]\n",
    "\n",
    "print('Read dataset completed successfully.')\n",
    "print('Total number of rows: {0}\\n\\n'.format(len(training_df.index)))\n",
    "training_df.head(200)"
   ]
  },
  {
   "cell_type": "code",
   "execution_count": 48,
   "id": "da708811-8280-4010-a021-384b947ebac3",
   "metadata": {},
   "outputs": [
    {
     "name": "stdout",
     "output_type": "stream",
     "text": [
      "Total number of rows: 801\n",
      "\n",
      "\n"
     ]
    },
    {
     "data": {
      "text/html": [
       "<div>\n",
       "<style scoped>\n",
       "    .dataframe tbody tr th:only-of-type {\n",
       "        vertical-align: middle;\n",
       "    }\n",
       "\n",
       "    .dataframe tbody tr th {\n",
       "        vertical-align: top;\n",
       "    }\n",
       "\n",
       "    .dataframe thead th {\n",
       "        text-align: right;\n",
       "    }\n",
       "</style>\n",
       "<table border=\"1\" class=\"dataframe\">\n",
       "  <thead>\n",
       "    <tr style=\"text-align: right;\">\n",
       "      <th></th>\n",
       "      <th>chwAirTemp</th>\n",
       "      <th>trees_n</th>\n",
       "      <th>ndvi</th>\n",
       "      <th>trees_crown_den</th>\n",
       "      <th>treeCCov10</th>\n",
       "    </tr>\n",
       "  </thead>\n",
       "  <tbody>\n",
       "    <tr>\n",
       "      <th>count</th>\n",
       "      <td>801.000000</td>\n",
       "      <td>801.000000</td>\n",
       "      <td>798.000000</td>\n",
       "      <td>801.000000</td>\n",
       "      <td>801.000000</td>\n",
       "    </tr>\n",
       "    <tr>\n",
       "      <th>mean</th>\n",
       "      <td>83.866877</td>\n",
       "      <td>2135.905119</td>\n",
       "      <td>0.306624</td>\n",
       "      <td>19.180649</td>\n",
       "      <td>20.336646</td>\n",
       "    </tr>\n",
       "    <tr>\n",
       "      <th>std</th>\n",
       "      <td>0.963622</td>\n",
       "      <td>3244.690282</td>\n",
       "      <td>0.080967</td>\n",
       "      <td>7.995509</td>\n",
       "      <td>7.945002</td>\n",
       "    </tr>\n",
       "    <tr>\n",
       "      <th>min</th>\n",
       "      <td>79.128458</td>\n",
       "      <td>0.000000</td>\n",
       "      <td>0.072727</td>\n",
       "      <td>0.000000</td>\n",
       "      <td>0.689139</td>\n",
       "    </tr>\n",
       "    <tr>\n",
       "      <th>25%</th>\n",
       "      <td>83.603765</td>\n",
       "      <td>874.000000</td>\n",
       "      <td>0.252545</td>\n",
       "      <td>14.000000</td>\n",
       "      <td>14.941393</td>\n",
       "    </tr>\n",
       "    <tr>\n",
       "      <th>50%</th>\n",
       "      <td>84.133087</td>\n",
       "      <td>1452.000000</td>\n",
       "      <td>0.303582</td>\n",
       "      <td>18.800000</td>\n",
       "      <td>19.867359</td>\n",
       "    </tr>\n",
       "    <tr>\n",
       "      <th>75%</th>\n",
       "      <td>84.461832</td>\n",
       "      <td>2323.000000</td>\n",
       "      <td>0.359262</td>\n",
       "      <td>23.700000</td>\n",
       "      <td>25.092007</td>\n",
       "    </tr>\n",
       "    <tr>\n",
       "      <th>max</th>\n",
       "      <td>85.490008</td>\n",
       "      <td>58668.000000</td>\n",
       "      <td>0.657618</td>\n",
       "      <td>68.300000</td>\n",
       "      <td>67.997264</td>\n",
       "    </tr>\n",
       "  </tbody>\n",
       "</table>\n",
       "</div>"
      ],
      "text/plain": [
       "       chwAirTemp       trees_n        ndvi  trees_crown_den  treeCCov10\n",
       "count  801.000000    801.000000  798.000000       801.000000  801.000000\n",
       "mean    83.866877   2135.905119    0.306624        19.180649   20.336646\n",
       "std      0.963622   3244.690282    0.080967         7.995509    7.945002\n",
       "min     79.128458      0.000000    0.072727         0.000000    0.689139\n",
       "25%     83.603765    874.000000    0.252545        14.000000   14.941393\n",
       "50%     84.133087   1452.000000    0.303582        18.800000   19.867359\n",
       "75%     84.461832   2323.000000    0.359262        23.700000   25.092007\n",
       "max     85.490008  58668.000000    0.657618        68.300000   67.997264"
      ]
     },
     "execution_count": 48,
     "metadata": {},
     "output_type": "execute_result"
    }
   ],
   "source": [
    "print('Total number of rows: {0}\\n\\n'.format(len(training_df.index)))\n",
    "training_df.describe(include='all')"
   ]
  },
  {
   "cell_type": "code",
   "execution_count": 49,
   "id": "4123a244-a796-406a-974d-f72898905889",
   "metadata": {},
   "outputs": [
    {
     "data": {
      "text/html": [
       "<div>\n",
       "<style scoped>\n",
       "    .dataframe tbody tr th:only-of-type {\n",
       "        vertical-align: middle;\n",
       "    }\n",
       "\n",
       "    .dataframe tbody tr th {\n",
       "        vertical-align: top;\n",
       "    }\n",
       "\n",
       "    .dataframe thead th {\n",
       "        text-align: right;\n",
       "    }\n",
       "</style>\n",
       "<table border=\"1\" class=\"dataframe\">\n",
       "  <thead>\n",
       "    <tr style=\"text-align: right;\">\n",
       "      <th></th>\n",
       "      <th>chwAirTemp</th>\n",
       "      <th>trees_n</th>\n",
       "      <th>ndvi</th>\n",
       "      <th>trees_crown_den</th>\n",
       "      <th>treeCCov10</th>\n",
       "    </tr>\n",
       "  </thead>\n",
       "  <tbody>\n",
       "    <tr>\n",
       "      <th>chwAirTemp</th>\n",
       "      <td>1.000000</td>\n",
       "      <td>-0.017693</td>\n",
       "      <td>-0.074465</td>\n",
       "      <td>-0.172356</td>\n",
       "      <td>-0.125744</td>\n",
       "    </tr>\n",
       "    <tr>\n",
       "      <th>trees_n</th>\n",
       "      <td>-0.017693</td>\n",
       "      <td>1.000000</td>\n",
       "      <td>0.410813</td>\n",
       "      <td>0.380770</td>\n",
       "      <td>0.310458</td>\n",
       "    </tr>\n",
       "    <tr>\n",
       "      <th>ndvi</th>\n",
       "      <td>-0.074465</td>\n",
       "      <td>0.410813</td>\n",
       "      <td>1.000000</td>\n",
       "      <td>0.766046</td>\n",
       "      <td>0.677192</td>\n",
       "    </tr>\n",
       "    <tr>\n",
       "      <th>trees_crown_den</th>\n",
       "      <td>-0.172356</td>\n",
       "      <td>0.380770</td>\n",
       "      <td>0.766046</td>\n",
       "      <td>1.000000</td>\n",
       "      <td>0.916024</td>\n",
       "    </tr>\n",
       "    <tr>\n",
       "      <th>treeCCov10</th>\n",
       "      <td>-0.125744</td>\n",
       "      <td>0.310458</td>\n",
       "      <td>0.677192</td>\n",
       "      <td>0.916024</td>\n",
       "      <td>1.000000</td>\n",
       "    </tr>\n",
       "  </tbody>\n",
       "</table>\n",
       "</div>"
      ],
      "text/plain": [
       "                 chwAirTemp   trees_n      ndvi  trees_crown_den  treeCCov10\n",
       "chwAirTemp         1.000000 -0.017693 -0.074465        -0.172356   -0.125744\n",
       "trees_n           -0.017693  1.000000  0.410813         0.380770    0.310458\n",
       "ndvi              -0.074465  0.410813  1.000000         0.766046    0.677192\n",
       "trees_crown_den   -0.172356  0.380770  0.766046         1.000000    0.916024\n",
       "treeCCov10        -0.125744  0.310458  0.677192         0.916024    1.000000"
      ]
     },
     "execution_count": 49,
     "metadata": {},
     "output_type": "execute_result"
    }
   ],
   "source": [
    "#@title Code - View correlation matrix\n",
    "training_df.corr(numeric_only = True)"
   ]
  },
  {
   "cell_type": "code",
   "execution_count": 51,
   "id": "61f0d230-289d-4d16-892f-c4d022481ac8",
   "metadata": {},
   "outputs": [
    {
     "data": {
      "text/plain": [
       "<seaborn.axisgrid.PairGrid at 0x19a58840260>"
      ]
     },
     "execution_count": 51,
     "metadata": {},
     "output_type": "execute_result"
    },
    {
     "data": {
      "image/png": "[encoded data removed]",
      "text/plain": [
       "<Figure size 750x750 with 12 Axes>"
      ]
     },
     "metadata": {},
     "output_type": "display_data"
    }
   ],
   "source": [
    "#@title Code - View pairplot\n",
    "sns.pairplot(training_df, x_vars=['trees_crown_den', 'treeCCov10', 'ndvi'], y_vars=['trees_crown_den', 'treeCCov10', 'ndvi'])"
   ]
  },
  {
   "cell_type": "markdown",
   "id": "9c1819e8-ff5b-457f-872f-2eff4385fb4b",
   "metadata": {},
   "source": [
    "def make_plots(df, feature_names, label_name, model_output, sample_size=200):\n",
    "\n",
    "    random_sample = df.sample(n=sample_size).copy()\n",
    "    random_sample.reset_index(drop=True, inplace=True)  # reset index properly\n",
    "    weights, bias, epochs, rmse = model_output\n",
    "\n",
    "    is_2d_plot = len(feature_names) == 1\n",
    "    model_plot_type = \"scatter\" if is_2d_plot else \"surface\"\n",
    "    fig = make_subplots(rows=1, cols=2,\n",
    "                        subplot_titles=(\"Loss Curve\", \"Model Plot\"),\n",
    "                        specs=[[{\"type\": \"scatter\"}, {\"type\": model_plot_type}]])\n",
    "\n",
    "    plot_data(random_sample, feature_names, label_name, fig)\n",
    "    plot_model(random_sample, feature_names, weights, bias, fig)\n",
    "    plot_loss_curve(epochs, rmse, fig)\n",
    "\n",
    "    fig.show()\n",
    "    return\n",
    "\n",
    "def plot_loss_curve(epochs, rmse, fig):\n",
    "    curve = px.line(x=epochs, y=rmse)\n",
    "    curve.update_traces(line_color='#ff0000', line_width=3)\n",
    "\n",
    "    fig.add_trace(curve.data[0], row=1, col=1)\n",
    "    fig.update_xaxes(title_text=\"Epoch\", row=1, col=1)\n",
    "    fig.update_yaxes(title_text=\"Root Mean Squared Error\", row=1, col=1, range=[rmse.min()*0.8, rmse.max()])\n",
    "\n",
    "    return\n",
    "\n",
    "def plot_data(df, features, label, fig):\n",
    "    if len(features) == 1:\n",
    "        scatter = px.scatter(df, x=features[0], y=label)\n",
    "        fig.add_trace(scatter.data[0], row=1, col=2)\n",
    "        fig.update_xaxes(title_text=features[0], row=1, col=2)\n",
    "        fig.update_yaxes(title_text=label, row=1, col=2)\n",
    "    else:\n",
    "        scatter = px.scatter_3d(df, x=features[0], y=features[1], z=label)\n",
    "        for trace in scatter.data:\n",
    "            fig.add_trace(trace, row=1, col=2)\n",
    "        fig.update_layout(scene=dict(\n",
    "            xaxis_title=features[0],\n",
    "            yaxis_title=features[1],\n",
    "            zaxis_title=label\n",
    "        ))\n",
    "\n",
    "    return\n",
    "\n",
    "def plot_model(df, features, weights, bias, fig):\n",
    "    df['PREDICTED_AIRTEMP'] = bias[0]\n",
    "    for idx, feature in enumerate(features):\n",
    "        df['PREDICTED_AIRTEMP'] += weights[idx][0] * df[feature]\n",
    "\n",
    "    if len(features) == 1:\n",
    "        model_line = px.line(df.sort_values(by=features[0]), x=features[0], y='PREDICTED_AIRTEMP')\n",
    "        model_line.update_traces(line_color='#ff0000', line_width=3)\n",
    "        fig.add_trace(model_line.data[0], row=1, col=2)\n",
    "\n",
    "    else:\n",
    "        # Create a grid to plot the regression plane in 3D\n",
    "        x_range = np.linspace(df[features[0]].min(), df[features[0]].max(), 10)\n",
    "        y_range = np.linspace(df[features[1]].min(), df[features[1]].max(), 10)\n",
    "        x_grid, y_grid = np.meshgrid(x_range, y_range)\n",
    "\n",
    "        # Calculate corresponding z values from the regression equation: z = w1*x + w2*y + bias\n",
    "        z_grid = weights[0][0] * x_grid + weights[1][0] * y_grid + bias[0]\n",
    "\n",
    "        surface = go.Surface(\n",
    "            x=x_grid, y=y_grid, z=z_grid,\n",
    "            colorscale=[[0, '#89CFF0'], [1, '#FFDB58']],\n",
    "            opacity=0.7,\n",
    "            showscale=False\n",
    "        )\n",
    "        fig.add_trace(surface, row=1, col=2)\n",
    "\n",
    "    return\n",
    "\n",
    "def model_info(feature_names, label_name, model_output):\n",
    "    weights = model_output[0]\n",
    "    bias = model_output[1]\n",
    "\n",
    "    nl = \"\\n\"\n",
    "    header = \"-\" * 80\n",
    "    banner = header + nl + \"|\" + \"MODEL INFO\".center(78) + \"|\" + nl + header\n",
    "\n",
    "    info = \"\"\n",
    "    equation = label_name + \" = \"\n",
    "\n",
    "    for index, feature in enumerate(feature_names):\n",
    "        info += f\"Weight for feature[{feature}]: {weights[index][0]:.3f}\\n\"\n",
    "        equation += f\"{weights[index][0]:.3f} * {feature} + \"\n",
    "\n",
    "    info += f\"Bias: {bias[0]:.3f}\\n\"\n",
    "    equation += f\"{bias[0]:.3f}\\n\"\n",
    "\n",
    "    return banner + nl + info + nl + equation\n",
    "\n",
    "print(\"SUCCESS: defining plotting functions complete.\")"
   ]
  },
  {
   "cell_type": "code",
   "execution_count": 62,
   "id": "fe54d8f3-2ef4-4177-9853-5330b50ac60a",
   "metadata": {},
   "outputs": [
    {
     "name": "stdout",
     "output_type": "stream",
     "text": [
      "SUCCESS: defining linear regression functions complete.\n"
     ]
    }
   ],
   "source": [
    "#@title Code - Define ML functions\n",
    "\n",
    "def build_model(my_learning_rate, num_features):\n",
    "  \"\"\"Create and compile a simple linear regression model.\"\"\"\n",
    "  # Describe the topography of the model.\n",
    "  # The topography of a simple linear regression model\n",
    "  # is a single node in a single layer.\n",
    "  inputs = keras.Input(shape=(num_features,))\n",
    "  outputs = keras.layers.Dense(units=1)(inputs)\n",
    "  model = keras.Model(inputs=inputs, outputs=outputs)\n",
    "\n",
    "  # Compile the model topography into code that Keras can efficiently\n",
    "  # execute. Configure training to minimize the model's mean squared error.\n",
    "  model.compile(optimizer=keras.optimizers.RMSprop(learning_rate=my_learning_rate),\n",
    "                loss=\"mean_squared_error\",\n",
    "                metrics=[keras.metrics.RootMeanSquaredError()])\n",
    "\n",
    "  return model\n",
    "\n",
    "\n",
    "def train_model(model, features, label, epochs, batch_size):\n",
    "  \"\"\"Train the model by feeding it data.\"\"\"\n",
    "\n",
    "  # Feed the model the feature and the label.\n",
    "  # The model will train for the specified number of epochs.\n",
    "  history = model.fit(x=features,\n",
    "                      y=label,\n",
    "                      batch_size=batch_size,\n",
    "                      epochs=epochs)\n",
    "\n",
    "  # Gather the trained model's weight and bias.\n",
    "  trained_weight = model.get_weights()[0]\n",
    "  trained_bias = model.get_weights()[1]\n",
    "\n",
    "  # The list of epochs is stored separately from the rest of history.\n",
    "  epochs = history.epoch\n",
    "\n",
    "  # Isolate the error for each epoch.\n",
    "  hist = pd.DataFrame(history.history)\n",
    "\n",
    "  # To track the progression of training, we're going to take a snapshot\n",
    "  # of the model's root mean squared error at each epoch.\n",
    "  rmse = hist[\"root_mean_squared_error\"]\n",
    "\n",
    "  return trained_weight, trained_bias, epochs, rmse\n",
    "\n",
    "\n",
    "def run_experiment(df, feature_names, label_name, learning_rate, epochs, batch_size):\n",
    "\n",
    "  print('INFO: starting training experiment with features={} and label={}\\n'.format(feature_names, label_name))\n",
    "\n",
    "  num_features = len(feature_names)\n",
    "\n",
    "  features = df.loc[:, feature_names].values\n",
    "  label = df[label_name].values\n",
    "\n",
    "  model = build_model(learning_rate, num_features)\n",
    "  model_output = train_model(model, features, label, epochs, batch_size)\n",
    "\n",
    "  print('\\nSUCCESS: training experiment complete\\n')\n",
    "  print('{}'.format(model_info(feature_names, label_name, model_output)))\n",
    "  make_plots(df, feature_names, label_name, model_output)\n",
    "\n",
    "  return model\n",
    "\n",
    "print(\"SUCCESS: defining linear regression functions complete.\")"
   ]
  },
  {
   "cell_type": "code",
   "execution_count": 67,
   "id": "5cd152af-68c2-4333-aa31-38c4e2290805",
   "metadata": {},
   "outputs": [
    {
     "name": "stdout",
     "output_type": "stream",
     "text": [
      "INFO: starting training experiment with features=['trees_crown_den'] and label=ndvi\n",
      "\n",
      "Epoch 1/20\n",
      "\u001b[1m16/16\u001b[0m \u001b[32m━━━━━━━━━━━━━━━━━━━━\u001b[0m\u001b[37m\u001b[0m \u001b[1m1s\u001b[0m 4ms/step - loss: 3.4102 - root_mean_squared_error: 1.8458  \n",
      "Epoch 2/20\n",
      "\u001b[1m16/16\u001b[0m \u001b[32m━━━━━━━━━━━━━━━━━━━━\u001b[0m\u001b[37m\u001b[0m \u001b[1m0s\u001b[0m 5ms/step - loss: 2.1243 - root_mean_squared_error: 1.4564 \n",
      "Epoch 3/20\n",
      "\u001b[1m16/16\u001b[0m \u001b[32m━━━━━━━━━━━━━━━━━━━━\u001b[0m\u001b[37m\u001b[0m \u001b[1m0s\u001b[0m 4ms/step - loss: 1.3243 - root_mean_squared_error: 1.1498 \n",
      "Epoch 4/20\n",
      "\u001b[1m16/16\u001b[0m \u001b[32m━━━━━━━━━━━━━━━━━━━━\u001b[0m\u001b[37m\u001b[0m \u001b[1m0s\u001b[0m 4ms/step - loss: 0.7198 - root_mean_squared_error: 0.8475 \n",
      "Epoch 5/20\n",
      "\u001b[1m16/16\u001b[0m \u001b[32m━━━━━━━━━━━━━━━━━━━━\u001b[0m\u001b[37m\u001b[0m \u001b[1m0s\u001b[0m 3ms/step - loss: 0.3183 - root_mean_squared_error: 0.5635 \n",
      "Epoch 6/20\n",
      "\u001b[1m16/16\u001b[0m \u001b[32m━━━━━━━━━━━━━━━━━━━━\u001b[0m\u001b[37m\u001b[0m \u001b[1m0s\u001b[0m 3ms/step - loss: 0.1157 - root_mean_squared_error: 0.3386 \n",
      "Epoch 7/20\n",
      "\u001b[1m16/16\u001b[0m \u001b[32m━━━━━━━━━━━━━━━━━━━━\u001b[0m\u001b[37m\u001b[0m \u001b[1m0s\u001b[0m 3ms/step - loss: 0.0278 - root_mean_squared_error: 0.1660 \n",
      "Epoch 8/20\n",
      "\u001b[1m16/16\u001b[0m \u001b[32m━━━━━━━━━━━━━━━━━━━━\u001b[0m\u001b[37m\u001b[0m \u001b[1m0s\u001b[0m 4ms/step - loss: 0.0117 - root_mean_squared_error: 0.1084 \n",
      "Epoch 9/20\n",
      "\u001b[1m16/16\u001b[0m \u001b[32m━━━━━━━━━━━━━━━━━━━━\u001b[0m\u001b[37m\u001b[0m \u001b[1m0s\u001b[0m 5ms/step - loss: 0.0105 - root_mean_squared_error: 0.1025 \n",
      "Epoch 10/20\n",
      "\u001b[1m16/16\u001b[0m \u001b[32m━━━━━━━━━━━━━━━━━━━━\u001b[0m\u001b[37m\u001b[0m \u001b[1m0s\u001b[0m 4ms/step - loss: 0.0090 - root_mean_squared_error: 0.0944 \n",
      "Epoch 11/20\n",
      "\u001b[1m16/16\u001b[0m \u001b[32m━━━━━━━━━━━━━━━━━━━━\u001b[0m\u001b[37m\u001b[0m \u001b[1m0s\u001b[0m 3ms/step - loss: 0.0102 - root_mean_squared_error: 0.1007 \n",
      "Epoch 12/20\n",
      "\u001b[1m16/16\u001b[0m \u001b[32m━━━━━━━━━━━━━━━━━━━━\u001b[0m\u001b[37m\u001b[0m \u001b[1m0s\u001b[0m 3ms/step - loss: 0.0093 - root_mean_squared_error: 0.0961 \n",
      "Epoch 13/20\n",
      "\u001b[1m16/16\u001b[0m \u001b[32m━━━━━━━━━━━━━━━━━━━━\u001b[0m\u001b[37m\u001b[0m \u001b[1m0s\u001b[0m 3ms/step - loss: 0.0076 - root_mean_squared_error: 0.0873 \n",
      "Epoch 14/20\n",
      "\u001b[1m16/16\u001b[0m \u001b[32m━━━━━━━━━━━━━━━━━━━━\u001b[0m\u001b[37m\u001b[0m \u001b[1m0s\u001b[0m 3ms/step - loss: 0.0068 - root_mean_squared_error: 0.0821 \n",
      "Epoch 15/20\n",
      "\u001b[1m16/16\u001b[0m \u001b[32m━━━━━━━━━━━━━━━━━━━━\u001b[0m\u001b[37m\u001b[0m \u001b[1m0s\u001b[0m 3ms/step - loss: 0.0064 - root_mean_squared_error: 0.0799 \n",
      "Epoch 16/20\n",
      "\u001b[1m16/16\u001b[0m \u001b[32m━━━━━━━━━━━━━━━━━━━━\u001b[0m\u001b[37m\u001b[0m \u001b[1m0s\u001b[0m 3ms/step - loss: 0.0058 - root_mean_squared_error: 0.0759 \n",
      "Epoch 17/20\n",
      "\u001b[1m16/16\u001b[0m \u001b[32m━━━━━━━━━━━━━━━━━━━━\u001b[0m\u001b[37m\u001b[0m \u001b[1m0s\u001b[0m 5ms/step - loss: 0.0058 - root_mean_squared_error: 0.0760 \n",
      "Epoch 18/20\n",
      "\u001b[1m16/16\u001b[0m \u001b[32m━━━━━━━━━━━━━━━━━━━━\u001b[0m\u001b[37m\u001b[0m \u001b[1m0s\u001b[0m 5ms/step - loss: 0.0059 - root_mean_squared_error: 0.0768 \n",
      "Epoch 19/20\n",
      "\u001b[1m16/16\u001b[0m \u001b[32m━━━━━━━━━━━━━━━━━━━━\u001b[0m\u001b[37m\u001b[0m \u001b[1m0s\u001b[0m 4ms/step - loss: 0.0048 - root_mean_squared_error: 0.0696 \n",
      "Epoch 20/20\n",
      "\u001b[1m16/16\u001b[0m \u001b[32m━━━━━━━━━━━━━━━━━━━━\u001b[0m\u001b[37m\u001b[0m \u001b[1m0s\u001b[0m 6ms/step - loss: 0.0047 - root_mean_squared_error: 0.0684 \n",
      "\n",
      "SUCCESS: training experiment complete\n",
      "\n",
      "--------------------------------------------------------------------------------\n",
      "|                                  MODEL INFO                                  |\n",
      "--------------------------------------------------------------------------------\n",
      "Weight for feature[trees_crown_den]: 0.012\n",
      "Bias: 0.060\n",
      "\n",
      "ndvi = 0.012 * trees_crown_den + 0.060\n",
      "\n"
     ]
    },
    {
     "data": {
      "application/vnd.plotly.v1+json": {
       "config": {
        "plotlyServerURL": "https://plot.ly"
       },
       "data": [
        {
         "hovertemplate": "trees_crown_den=%{x}<br>ndvi=%{y}<extra></extra>",
         "legendgroup": "",
         "marker": {
          "color": "#636efa",
          "symbol": "circle"
         },
         "mode": "markers",
         "name": "",
         "orientation": "v",
         "showlegend": false,
         "type": "scatter",
         "x": [
          13.5,
          7.9,
          24.6,
          20.3,
          15.7,
          13.8,
          14.5,
          10.5,
          17.2,
          25.1,
          45.8,
          23,
          22.5,
          12.7,
          29.5,
          15.7,
          15.9,
          23,
          7.8,
          26.9,
          16.8,
          26.6,
          11,
          35.3,
          9.9,
          25,
          27.1,
          17.1,
          13.5,
          9.8,
          21.2,
          13.9,
          20.5,
          18.7,
          16.4,
          23.7,
          30,
          21.1,
          23.7,
          24.2,
          26.2,
          34.9,
          28.4,
          19.2,
          21.8,
          7,
          14.6,
          7.9,
          20,
          29,
          18.4,
          23.5,
          20.2,
          18.4,
          31.8,
          31.1,
          18,
          18.9,
          11.5,
          18,
          23.5,
          30.2,
          21.9,
          14.2,
          13.8,
          33.2,
          3.8,
          21.9,
          10,
          17.6,
          32.2,
          14.8,
          6.5,
          18.7,
          12.8,
          16.6,
          15.6,
          17.6,
          41.5,
          14.3,
          14.4,
          21.1,
          31.6,
          28,
          68.3,
          12.2,
          19.2,
          16,
          17.8,
          13.3,
          14.1,
          27.7,
          12.7,
          7.6,
          18.1,
          24.8,
          32,
          15.5,
          19.2,
          8,
          20.7,
          18.7,
          19.6,
          28.8,
          23.3,
          27.5,
          24.1,
          10.1,
          21.1,
          32.2,
          10.1,
          5.9,
          21.8,
          24.5,
          19.7,
          18.7,
          4.5,
          18.1,
          33.8,
          30.7,
          11.8,
          10.1,
          27.7,
          25.6,
          23.6,
          23.1,
          23.2,
          24.1,
          39.9,
          9.9,
          23.7,
          18.9,
          14.1,
          15.6,
          16.5,
          12.3,
          15.9,
          22.4,
          22.8,
          24,
          28.9,
          26.7,
          1.5,
          28.1,
          28.6,
          11.9,
          28,
          11.4,
          27.5,
          3.7,
          27.6,
          14.6,
          21.9,
          13.4,
          16.5,
          12.3,
          10.2,
          10.5,
          21.3,
          23.4,
          28.1,
          16.1,
          7.6,
          0.1,
          28.2,
          16.6,
          16.8,
          16.5,
          21.9,
          11.1,
          17.3,
          23.2,
          27.3,
          15.4,
          35.5,
          17.8,
          12,
          13.4,
          8.5,
          22.7,
          21.3,
          26,
          22.5,
          30.7,
          24.7,
          22.1,
          23.9,
          27,
          18,
          11.1,
          23.2,
          10.5,
          22.5,
          16.9,
          22.7,
          18.6,
          18.6,
          28,
          10.6,
          15.5
         ],
         "xaxis": "x2",
         "y": [
          0.306685,
          0.183328,
          0.378252,
          0.270661,
          0.30623,
          0.331674,
          0.251057,
          0.266608,
          0.240384,
          0.403265,
          0.50291,
          0.365762,
          0.203826,
          0.213359,
          0.312118,
          0.226488,
          0.326773,
          0.389732,
          0.172778,
          0.442031,
          0.252787,
          0.405749,
          0.189237,
          0.480956,
          0.294715,
          0.411371,
          0.440225,
          0.272722,
          0.243658,
          0.232814,
          0.396098,
          0.26764,
          0.358029,
          0.30444,
          0.36397,
          0.28583,
          0.483306,
          0.278144,
          0.384025,
          0.344866,
          0.287267,
          0.485655,
          0.349228,
          0.208712,
          0.342071,
          0.181997,
          0.187575,
          0.188116,
          0.330101,
          0.322747,
          0.334726,
          0.366641,
          0.320209,
          0.353463,
          0.430472,
          0.391844,
          0.286872,
          0.357543,
          0.245232,
          0.26881,
          0.332654,
          0.370934,
          0.292153,
          0.210074,
          0.36172,
          0.358227,
          0.129206,
          0.263018,
          0.236728,
          0.326847,
          0.422497,
          0.294392,
          0.176981,
          0.308755,
          0.1967,
          0.38457,
          0.336018,
          0.328954,
          0.465329,
          0.238707,
          0.263857,
          0.254952,
          0.325672,
          0.447515,
          0.657618,
          0.269829,
          0.3111,
          0.290262,
          0.274484,
          0.222959,
          0.206844,
          0.362741,
          0.258005,
          0.213166,
          0.306673,
          0.370719,
          0.406632,
          0.219628,
          0.307127,
          0.211535,
          0.340169,
          0.291915,
          0.285715,
          0.425403,
          0.318452,
          0.354562,
          0.431195,
          0.283305,
          0.297339,
          0.408218,
          0.23596,
          0.16999,
          0.289124,
          0.35479,
          0.249064,
          0.23593,
          0.120826,
          0.230264,
          0.415415,
          0.387243,
          0.237593,
          0.207264,
          0.419263,
          0.293361,
          0.258272,
          0.358598,
          0.324935,
          0.33353,
          0.437727,
          0.192025,
          0.271426,
          0.326723,
          0.285734,
          0.235108,
          0.234233,
          0.243658,
          0.279374,
          0.281589,
          0.405303,
          0.409443,
          0.438601,
          0.434893,
          0.428141,
          0.263997,
          0.365147,
          0.245642,
          0.421452,
          0.191932,
          0.371216,
          0.0777,
          0.415923,
          0.280473,
          0.345688,
          0.229384,
          0.254189,
          0.204049,
          0.320839,
          0.214605,
          0.342267,
          0.319242,
          0.416764,
          0.480929,
          0.191823,
          0.36051,
          0.274927,
          0.242128,
          0.312875,
          0.302471,
          0.340049,
          0.192915,
          0.243298,
          0.328017,
          0.347545,
          0.316285,
          0.482135,
          0.251699,
          0.255482,
          0.294657,
          0.223535,
          0.359483,
          0.308333,
          0.312059,
          0.352292,
          0.348781,
          0.360129,
          0.423821,
          0.372081,
          0.309177,
          0.269764,
          0.172903,
          0.341371,
          0.20011,
          0.249939,
          0.243981,
          0.35348,
          0.282159,
          0.29479,
          0.371367,
          0.266519,
          0.30463
         ],
         "yaxis": "y2"
        },
        {
         "hovertemplate": "trees_crown_den=%{x}<br>PREDICTED_AIRTEMP=%{y}<extra></extra>",
         "legendgroup": "",
         "line": {
          "color": "#ff0000",
          "dash": "solid",
          "width": 3
         },
         "marker": {
          "symbol": "circle"
         },
         "mode": "lines",
         "name": "",
         "orientation": "v",
         "showlegend": false,
         "type": "scatter",
         "x": [
          0.1,
          1.5,
          3.7,
          3.8,
          4.5,
          5.9,
          6.5,
          7,
          7.6,
          7.6,
          7.8,
          7.9,
          7.9,
          8,
          8.5,
          9.8,
          9.9,
          9.9,
          10,
          10.1,
          10.1,
          10.1,
          10.2,
          10.5,
          10.5,
          10.5,
          10.6,
          11,
          11.1,
          11.1,
          11.4,
          11.5,
          11.8,
          11.9,
          12,
          12.2,
          12.3,
          12.3,
          12.7,
          12.7,
          12.8,
          13.3,
          13.4,
          13.4,
          13.5,
          13.5,
          13.8,
          13.8,
          13.9,
          14.1,
          14.1,
          14.2,
          14.3,
          14.4,
          14.5,
          14.6,
          14.6,
          14.8,
          15.4,
          15.5,
          15.5,
          15.6,
          15.6,
          15.7,
          15.7,
          15.9,
          15.9,
          16,
          16.1,
          16.4,
          16.5,
          16.5,
          16.5,
          16.6,
          16.6,
          16.8,
          16.8,
          16.9,
          17.1,
          17.2,
          17.3,
          17.6,
          17.6,
          17.8,
          17.8,
          18,
          18,
          18,
          18.1,
          18.1,
          18.4,
          18.4,
          18.6,
          18.6,
          18.7,
          18.7,
          18.7,
          18.7,
          18.9,
          18.9,
          19.2,
          19.2,
          19.2,
          19.6,
          19.7,
          20,
          20.2,
          20.3,
          20.5,
          20.7,
          21.1,
          21.1,
          21.1,
          21.2,
          21.3,
          21.3,
          21.8,
          21.8,
          21.9,
          21.9,
          21.9,
          21.9,
          22.1,
          22.4,
          22.5,
          22.5,
          22.5,
          22.7,
          22.7,
          22.8,
          23,
          23,
          23.1,
          23.2,
          23.2,
          23.2,
          23.3,
          23.4,
          23.5,
          23.5,
          23.6,
          23.7,
          23.7,
          23.7,
          23.9,
          24,
          24.1,
          24.1,
          24.2,
          24.5,
          24.6,
          24.7,
          24.8,
          25,
          25.1,
          25.6,
          26,
          26.2,
          26.6,
          26.7,
          26.9,
          27,
          27.1,
          27.3,
          27.5,
          27.5,
          27.6,
          27.7,
          27.7,
          28,
          28,
          28,
          28.1,
          28.1,
          28.2,
          28.4,
          28.6,
          28.8,
          28.9,
          29,
          29.5,
          30,
          30.2,
          30.7,
          30.7,
          31.1,
          31.6,
          31.8,
          32,
          32.2,
          32.2,
          33.2,
          33.8,
          34.9,
          35.3,
          35.5,
          39.9,
          41.5,
          45.8,
          68.3
         ],
         "xaxis": "x2",
         "y": [
          0.06168153276666999,
          0.07882266351953149,
          0.10575872613117099,
          0.10698309261351824,
          0.11555365798994899,
          0.1326947887428105,
          0.140040987636894,
          0.14616282004863024,
          0.15350901894271374,
          0.15350901894271374,
          0.15595775190740824,
          0.1571821183897555,
          0.1571821183897555,
          0.15840648487210274,
          0.164528317283839,
          0.18044508155435324,
          0.1816694480367005,
          0.1816694480367005,
          0.18289381451904774,
          0.184118181001395,
          0.184118181001395,
          0.184118181001395,
          0.18534254748374224,
          0.189015646930784,
          0.189015646930784,
          0.189015646930784,
          0.19024001341313124,
          0.19513747934252024,
          0.1963618458248675,
          0.1963618458248675,
          0.20003494527190924,
          0.2012593117542565,
          0.20493241120129824,
          0.2061567776836455,
          0.20738114416599274,
          0.20982987713068724,
          0.2110542436130345,
          0.2110542436130345,
          0.2159517095424235,
          0.2159517095424235,
          0.21717607602477074,
          0.223297908436507,
          0.22452227491885424,
          0.22452227491885424,
          0.2257466414012015,
          0.2257466414012015,
          0.22941974084824324,
          0.22941974084824324,
          0.2306441073305905,
          0.233092840295285,
          0.233092840295285,
          0.23431720677763224,
          0.2355415732599795,
          0.23676593974232674,
          0.237990306224674,
          0.23921467270702124,
          0.23921467270702124,
          0.24166340567171574,
          0.24900960456579924,
          0.2502339710481465,
          0.2502339710481465,
          0.25145833753049374,
          0.25145833753049374,
          0.252682704012841,
          0.252682704012841,
          0.2551314369775355,
          0.2551314369775355,
          0.25635580345988274,
          0.25758016994223,
          0.26125326938927174,
          0.262477635871619,
          0.262477635871619,
          0.262477635871619,
          0.26370200235396624,
          0.26370200235396624,
          0.26615073531866074,
          0.26615073531866074,
          0.267375101801008,
          0.2698238347657025,
          0.27104820124804974,
          0.272272567730397,
          0.27594566717743874,
          0.27594566717743874,
          0.27839440014213324,
          0.27839440014213324,
          0.28084313310682774,
          0.28084313310682774,
          0.28084313310682774,
          0.282067499589175,
          0.282067499589175,
          0.28574059903621674,
          0.28574059903621674,
          0.28818933200091124,
          0.28818933200091124,
          0.2894136984832585,
          0.2894136984832585,
          0.2894136984832585,
          0.2894136984832585,
          0.291862431447953,
          0.291862431447953,
          0.29553553089499474,
          0.29553553089499474,
          0.29553553089499474,
          0.30043299682438374,
          0.301657363306731,
          0.30533046275377274,
          0.30777919571846724,
          0.3090035622008145,
          0.311452295165509,
          0.3139010281302035,
          0.3187984940595925,
          0.3187984940595925,
          0.3187984940595925,
          0.32002286054193974,
          0.321247227024287,
          0.321247227024287,
          0.32736905943602324,
          0.32736905943602324,
          0.3285934259183705,
          0.3285934259183705,
          0.3285934259183705,
          0.3285934259183705,
          0.331042158883065,
          0.33471525833010674,
          0.335939624812454,
          0.335939624812454,
          0.335939624812454,
          0.3383883577771485,
          0.3383883577771485,
          0.33961272425949574,
          0.34206145722419024,
          0.34206145722419024,
          0.3432858237065375,
          0.34451019018888474,
          0.34451019018888474,
          0.34451019018888474,
          0.345734556671232,
          0.34695892315357924,
          0.3481832896359265,
          0.3481832896359265,
          0.34940765611827374,
          0.350632022600621,
          0.350632022600621,
          0.350632022600621,
          0.3530807555653155,
          0.35430512204766273,
          0.35552948853001,
          0.35552948853001,
          0.35675385501235723,
          0.360426954459399,
          0.36165132094174623,
          0.3628756874240935,
          0.36410005390644073,
          0.36654878687113523,
          0.3677731533534825,
          0.37389498576521873,
          0.37879245169460773,
          0.38124118465930223,
          0.38613865058869123,
          0.3873630170710385,
          0.389811750035733,
          0.39103611651808023,
          0.3922604830004275,
          0.394709215965122,
          0.3971579489298165,
          0.3971579489298165,
          0.39838231541216373,
          0.399606681894511,
          0.399606681894511,
          0.40327978134155273,
          0.40327978134155273,
          0.40327978134155273,
          0.4045041478239,
          0.4045041478239,
          0.40572851430624723,
          0.40817724727094173,
          0.41062598023563623,
          0.41307471320033073,
          0.414299079682678,
          0.41552344616502523,
          0.4216452785767615,
          0.42776711098849773,
          0.43021584395319223,
          0.4363376763649285,
          0.4363376763649285,
          0.4412351422943175,
          0.44735697470605373,
          0.44980570767074823,
          0.45225444063544273,
          0.4547031736001373,
          0.4547031736001373,
          0.4669468384236098,
          0.4742930373176932,
          0.487761068623513,
          0.4926585345529019,
          0.4951072675175965,
          0.5489793927408755,
          0.5685692564584315,
          0.6212170151993632,
          0.8966994737274945
         ],
         "yaxis": "y2"
        },
        {
         "hovertemplate": "x=%{x}<br>y=%{y}<extra></extra>",
         "legendgroup": "",
         "line": {
          "color": "#ff0000",
          "dash": "solid",
          "width": 3
         },
         "marker": {
          "symbol": "circle"
         },
         "mode": "lines",
         "name": "",
         "orientation": "v",
         "showlegend": false,
         "type": "scatter",
         "x": [
          0,
          1,
          2,
          3,
          4,
          5,
          6,
          7,
          8,
          9,
          10,
          11,
          12,
          13,
          14,
          15,
          16,
          17,
          18,
          19
         ],
         "xaxis": "x",
         "y": [
          1.7539197206497192,
          1.3779176473617554,
          1.0713452100753784,
          0.7847610712051392,
          0.5185546875,
          0.2943713068962097,
          0.14699719846248627,
          0.10790393501520157,
          0.1045202761888504,
          0.10075371712446213,
          0.09643786400556564,
          0.09312590211629868,
          0.08883416652679443,
          0.08536463975906372,
          0.08162467181682587,
          0.0775260329246521,
          0.07457467168569565,
          0.07204218953847885,
          0.06829117983579636,
          0.06616078317165375
         ],
         "yaxis": "y"
        }
       ],
       "layout": {
        "annotations": [
         {
          "font": {
           "size": 16
          },
          "showarrow": false,
          "text": "Loss Curve",
          "x": 0.225,
          "xanchor": "center",
          "xref": "paper",
          "y": 1,
          "yanchor": "bottom",
          "yref": "paper"
         },
         {
          "font": {
           "size": 16
          },
          "showarrow": false,
          "text": "Model Plot",
          "x": 0.775,
          "xanchor": "center",
          "xref": "paper",
          "y": 1,
          "yanchor": "bottom",
          "yref": "paper"
         }
        ],
        "autosize": true,
        "template": {
         "data": {
          "bar": [
           {
            "error_x": {
             "color": "#2a3f5f"
            },
            "error_y": {
             "color": "#2a3f5f"
            },
            "marker": {
             "line": {
              "color": "#E5ECF6",
              "width": 0.5
             },
             "pattern": {
              "fillmode": "overlay",
              "size": 10,
              "solidity": 0.2
             }
            },
            "type": "bar"
           }
          ],
          "barpolar": [
           {
            "marker": {
             "line": {
              "color": "#E5ECF6",
              "width": 0.5
             },
             "pattern": {
              "fillmode": "overlay",
              "size": 10,
              "solidity": 0.2
             }
            },
            "type": "barpolar"
           }
          ],
          "carpet": [
           {
            "aaxis": {
             "endlinecolor": "#2a3f5f",
             "gridcolor": "white",
             "linecolor": "white",
             "minorgridcolor": "white",
             "startlinecolor": "#2a3f5f"
            },
            "baxis": {
             "endlinecolor": "#2a3f5f",
             "gridcolor": "white",
             "linecolor": "white",
             "minorgridcolor": "white",
             "startlinecolor": "#2a3f5f"
            },
            "type": "carpet"
           }
          ],
          "choropleth": [
           {
            "colorbar": {
             "outlinewidth": 0,
             "ticks": ""
            },
            "type": "choropleth"
           }
          ],
          "contour": [
           {
            "colorbar": {
             "outlinewidth": 0,
             "ticks": ""
            },
            "colorscale": [
             [
              0,
              "#0d0887"
             ],
             [
              0.1111111111111111,
              "#46039f"
             ],
             [
              0.2222222222222222,
              "#7201a8"
             ],
             [
              0.3333333333333333,
              "#9c179e"
             ],
             [
              0.4444444444444444,
              "#bd3786"
             ],
             [
              0.5555555555555556,
              "#d8576b"
             ],
             [
              0.6666666666666666,
              "#ed7953"
             ],
             [
              0.7777777777777778,
              "#fb9f3a"
             ],
             [
              0.8888888888888888,
              "#fdca26"
             ],
             [
              1,
              "#f0f921"
             ]
            ],
            "type": "contour"
           }
          ],
          "contourcarpet": [
           {
            "colorbar": {
             "outlinewidth": 0,
             "ticks": ""
            },
            "type": "contourcarpet"
           }
          ],
          "heatmap": [
           {
            "colorbar": {
             "outlinewidth": 0,
             "ticks": ""
            },
            "colorscale": [
             [
              0,
              "#0d0887"
             ],
             [
              0.1111111111111111,
              "#46039f"
             ],
             [
              0.2222222222222222,
              "#7201a8"
             ],
             [
              0.3333333333333333,
              "#9c179e"
             ],
             [
              0.4444444444444444,
              "#bd3786"
             ],
             [
              0.5555555555555556,
              "#d8576b"
             ],
             [
              0.6666666666666666,
              "#ed7953"
             ],
             [
              0.7777777777777778,
              "#fb9f3a"
             ],
             [
              0.8888888888888888,
              "#fdca26"
             ],
             [
              1,
              "#f0f921"
             ]
            ],
            "type": "heatmap"
           }
          ],
          "heatmapgl": [
           {
            "colorbar": {
             "outlinewidth": 0,
             "ticks": ""
            },
            "colorscale": [
             [
              0,
              "#0d0887"
             ],
             [
              0.1111111111111111,
              "#46039f"
             ],
             [
              0.2222222222222222,
              "#7201a8"
             ],
             [
              0.3333333333333333,
              "#9c179e"
             ],
             [
              0.4444444444444444,
              "#bd3786"
             ],
             [
              0.5555555555555556,
              "#d8576b"
             ],
             [
              0.6666666666666666,
              "#ed7953"
             ],
             [
              0.7777777777777778,
              "#fb9f3a"
             ],
             [
              0.8888888888888888,
              "#fdca26"
             ],
             [
              1,
              "#f0f921"
             ]
            ],
            "type": "heatmapgl"
           }
          ],
          "histogram": [
           {
            "marker": {
             "pattern": {
              "fillmode": "overlay",
              "size": 10,
              "solidity": 0.2
             }
            },
            "type": "histogram"
           }
          ],
          "histogram2d": [
           {
            "colorbar": {
             "outlinewidth": 0,
             "ticks": ""
            },
            "colorscale": [
             [
              0,
              "#0d0887"
             ],
             [
              0.1111111111111111,
              "#46039f"
             ],
             [
              0.2222222222222222,
              "#7201a8"
             ],
             [
              0.3333333333333333,
              "#9c179e"
             ],
             [
              0.4444444444444444,
              "#bd3786"
             ],
             [
              0.5555555555555556,
              "#d8576b"
             ],
             [
              0.6666666666666666,
              "#ed7953"
             ],
             [
              0.7777777777777778,
              "#fb9f3a"
             ],
             [
              0.8888888888888888,
              "#fdca26"
             ],
             [
              1,
              "#f0f921"
             ]
            ],
            "type": "histogram2d"
           }
          ],
          "histogram2dcontour": [
           {
            "colorbar": {
             "outlinewidth": 0,
             "ticks": ""
            },
            "colorscale": [
             [
              0,
              "#0d0887"
             ],
             [
              0.1111111111111111,
              "#46039f"
             ],
             [
              0.2222222222222222,
              "#7201a8"
             ],
             [
              0.3333333333333333,
              "#9c179e"
             ],
             [
              0.4444444444444444,
              "#bd3786"
             ],
             [
              0.5555555555555556,
              "#d8576b"
             ],
             [
              0.6666666666666666,
              "#ed7953"
             ],
             [
              0.7777777777777778,
              "#fb9f3a"
             ],
             [
              0.8888888888888888,
              "#fdca26"
             ],
             [
              1,
              "#f0f921"
             ]
            ],
            "type": "histogram2dcontour"
           }
          ],
          "mesh3d": [
           {
            "colorbar": {
             "outlinewidth": 0,
             "ticks": ""
            },
            "type": "mesh3d"
           }
          ],
          "parcoords": [
           {
            "line": {
             "colorbar": {
              "outlinewidth": 0,
              "ticks": ""
             }
            },
            "type": "parcoords"
           }
          ],
          "pie": [
           {
            "automargin": true,
            "type": "pie"
           }
          ],
          "scatter": [
           {
            "fillpattern": {
             "fillmode": "overlay",
             "size": 10,
             "solidity": 0.2
            },
            "type": "scatter"
           }
          ],
          "scatter3d": [
           {
            "line": {
             "colorbar": {
              "outlinewidth": 0,
              "ticks": ""
             }
            },
            "marker": {
             "colorbar": {
              "outlinewidth": 0,
              "ticks": ""
             }
            },
            "type": "scatter3d"
           }
          ],
          "scattercarpet": [
           {
            "marker": {
             "colorbar": {
              "outlinewidth": 0,
              "ticks": ""
             }
            },
            "type": "scattercarpet"
           }
          ],
          "scattergeo": [
           {
            "marker": {
             "colorbar": {
              "outlinewidth": 0,
              "ticks": ""
             }
            },
            "type": "scattergeo"
           }
          ],
          "scattergl": [
           {
            "marker": {
             "colorbar": {
              "outlinewidth": 0,
              "ticks": ""
             }
            },
            "type": "scattergl"
           }
          ],
          "scattermapbox": [
           {
            "marker": {
             "colorbar": {
              "outlinewidth": 0,
              "ticks": ""
             }
            },
            "type": "scattermapbox"
           }
          ],
          "scatterpolar": [
           {
            "marker": {
             "colorbar": {
              "outlinewidth": 0,
              "ticks": ""
             }
            },
            "type": "scatterpolar"
           }
          ],
          "scatterpolargl": [
           {
            "marker": {
             "colorbar": {
              "outlinewidth": 0,
              "ticks": ""
             }
            },
            "type": "scatterpolargl"
           }
          ],
          "scatterternary": [
           {
            "marker": {
             "colorbar": {
              "outlinewidth": 0,
              "ticks": ""
             }
            },
            "type": "scatterternary"
           }
          ],
          "surface": [
           {
            "colorbar": {
             "outlinewidth": 0,
             "ticks": ""
            },
            "colorscale": [
             [
              0,
              "#0d0887"
             ],
             [
              0.1111111111111111,
              "#46039f"
             ],
             [
              0.2222222222222222,
              "#7201a8"
             ],
             [
              0.3333333333333333,
              "#9c179e"
             ],
             [
              0.4444444444444444,
              "#bd3786"
             ],
             [
              0.5555555555555556,
              "#d8576b"
             ],
             [
              0.6666666666666666,
              "#ed7953"
             ],
             [
              0.7777777777777778,
              "#fb9f3a"
             ],
             [
              0.8888888888888888,
              "#fdca26"
             ],
             [
              1,
              "#f0f921"
             ]
            ],
            "type": "surface"
           }
          ],
          "table": [
           {
            "cells": {
             "fill": {
              "color": "#EBF0F8"
             },
             "line": {
              "color": "white"
             }
            },
            "header": {
             "fill": {
              "color": "#C8D4E3"
             },
             "line": {
              "color": "white"
             }
            },
            "type": "table"
           }
          ]
         },
         "layout": {
          "annotationdefaults": {
           "arrowcolor": "#2a3f5f",
           "arrowhead": 0,
           "arrowwidth": 1
          },
          "autotypenumbers": "strict",
          "coloraxis": {
           "colorbar": {
            "outlinewidth": 0,
            "ticks": ""
           }
          },
          "colorscale": {
           "diverging": [
            [
             0,
             "#8e0152"
            ],
            [
             0.1,
             "#c51b7d"
            ],
            [
             0.2,
             "#de77ae"
            ],
            [
             0.3,
             "#f1b6da"
            ],
            [
             0.4,
             "#fde0ef"
            ],
            [
             0.5,
             "#f7f7f7"
            ],
            [
             0.6,
             "#e6f5d0"
            ],
            [
             0.7,
             "#b8e186"
            ],
            [
             0.8,
             "#7fbc41"
            ],
            [
             0.9,
             "#4d9221"
            ],
            [
             1,
             "#276419"
            ]
           ],
           "sequential": [
            [
             0,
             "#0d0887"
            ],
            [
             0.1111111111111111,
             "#46039f"
            ],
            [
             0.2222222222222222,
             "#7201a8"
            ],
            [
             0.3333333333333333,
             "#9c179e"
            ],
            [
             0.4444444444444444,
             "#bd3786"
            ],
            [
             0.5555555555555556,
             "#d8576b"
            ],
            [
             0.6666666666666666,
             "#ed7953"
            ],
            [
             0.7777777777777778,
             "#fb9f3a"
            ],
            [
             0.8888888888888888,
             "#fdca26"
            ],
            [
             1,
             "#f0f921"
            ]
           ],
           "sequentialminus": [
            [
             0,
             "#0d0887"
            ],
            [
             0.1111111111111111,
             "#46039f"
            ],
            [
             0.2222222222222222,
             "#7201a8"
            ],
            [
             0.3333333333333333,
             "#9c179e"
            ],
            [
             0.4444444444444444,
             "#bd3786"
            ],
            [
             0.5555555555555556,
             "#d8576b"
            ],
            [
             0.6666666666666666,
             "#ed7953"
            ],
            [
             0.7777777777777778,
             "#fb9f3a"
            ],
            [
             0.8888888888888888,
             "#fdca26"
            ],
            [
             1,
             "#f0f921"
            ]
           ]
          },
          "colorway": [
           "#636efa",
           "#EF553B",
           "#00cc96",
           "#ab63fa",
           "#FFA15A",
           "#19d3f3",
           "#FF6692",
           "#B6E880",
           "#FF97FF",
           "#FECB52"
          ],
          "font": {
           "color": "#2a3f5f"
          },
          "geo": {
           "bgcolor": "white",
           "lakecolor": "white",
           "landcolor": "#E5ECF6",
           "showlakes": true,
           "showland": true,
           "subunitcolor": "white"
          },
          "hoverlabel": {
           "align": "left"
          },
          "hovermode": "closest",
          "mapbox": {
           "style": "light"
          },
          "paper_bgcolor": "white",
          "plot_bgcolor": "#E5ECF6",
          "polar": {
           "angularaxis": {
            "gridcolor": "white",
            "linecolor": "white",
            "ticks": ""
           },
           "bgcolor": "#E5ECF6",
           "radialaxis": {
            "gridcolor": "white",
            "linecolor": "white",
            "ticks": ""
           }
          },
          "scene": {
           "xaxis": {
            "backgroundcolor": "#E5ECF6",
            "gridcolor": "white",
            "gridwidth": 2,
            "linecolor": "white",
            "showbackground": true,
            "ticks": "",
            "zerolinecolor": "white"
           },
           "yaxis": {
            "backgroundcolor": "#E5ECF6",
            "gridcolor": "white",
            "gridwidth": 2,
            "linecolor": "white",
            "showbackground": true,
            "ticks": "",
            "zerolinecolor": "white"
           },
           "zaxis": {
            "backgroundcolor": "#E5ECF6",
            "gridcolor": "white",
            "gridwidth": 2,
            "linecolor": "white",
            "showbackground": true,
            "ticks": "",
            "zerolinecolor": "white"
           }
          },
          "shapedefaults": {
           "line": {
            "color": "#2a3f5f"
           }
          },
          "ternary": {
           "aaxis": {
            "gridcolor": "white",
            "linecolor": "white",
            "ticks": ""
           },
           "baxis": {
            "gridcolor": "white",
            "linecolor": "white",
            "ticks": ""
           },
           "bgcolor": "#E5ECF6",
           "caxis": {
            "gridcolor": "white",
            "linecolor": "white",
            "ticks": ""
           }
          },
          "title": {
           "x": 0.05
          },
          "xaxis": {
           "automargin": true,
           "gridcolor": "white",
           "linecolor": "white",
           "ticks": "",
           "title": {
            "standoff": 15
           },
           "zerolinecolor": "white",
           "zerolinewidth": 2
          },
          "yaxis": {
           "automargin": true,
           "gridcolor": "white",
           "linecolor": "white",
           "ticks": "",
           "title": {
            "standoff": 15
           },
           "zerolinecolor": "white",
           "zerolinewidth": 2
          }
         }
        },
        "xaxis": {
         "anchor": "y",
         "autorange": true,
         "domain": [
          0,
          0.45
         ],
         "range": [
          0,
          19
         ],
         "title": {
          "text": "Epoch"
         },
         "type": "linear"
        },
        "xaxis2": {
         "anchor": "y2",
         "autorange": true,
         "domain": [
          0.55,
          1
         ],
         "range": [
          -5.079715145730857,
          73.47971514573085
         ],
         "title": {
          "text": "trees_crown_den"
         },
         "type": "linear"
        },
        "yaxis": {
         "anchor": "x",
         "domain": [
          0,
          1
         ],
         "range": [
          0.052928626537323,
          1.7539197206497192
         ],
         "title": {
          "text": "Root Mean Squared Error"
         },
         "type": "linear"
        },
        "yaxis2": {
         "anchor": "x2",
         "autorange": true,
         "domain": [
          0,
          1
         ],
         "range": [
          0.011714260410581018,
          0.9432776428494373
         ],
         "title": {
          "text": "ndvi"
         },
         "type": "linear"
        }
       }
      },
      "image/png": "[encoded data removed]",
      "text/html": [
       "<div>                            <div id=\"99df7169-7b23-4595-95ec-a2c82531654b\" class=\"plotly-graph-div\" style=\"height:525px; width:100%;\"></div>            <script type=\"text/javascript\">                require([\"plotly\"], function(Plotly) {                    window.PLOTLYENV=window.PLOTLYENV || {};                                    if (document.getElementById(\"99df7169-7b23-4595-95ec-a2c82531654b\")) {                    Plotly.newPlot(                        \"99df7169-7b23-4595-95ec-a2c82531654b\",                        [{\"hovertemplate\":\"trees_crown_den=%{x}\\u003cbr\\u003endvi=%{y}\\u003cextra\\u003e\\u003c\\u002fextra\\u003e\",\"legendgroup\":\"\",\"marker\":{\"color\":\"#636efa\",\"symbol\":\"circle\"},\"mode\":\"markers\",\"name\":\"\",\"orientation\":\"v\",\"showlegend\":false,\"x\":[13.5,7.9,24.6,20.3,15.7,13.8,14.5,10.5,17.2,25.1,45.8,23.0,22.5,12.7,29.5,15.7,15.9,23.0,7.8,26.9,16.8,26.6,11.0,35.3,9.9,25.0,27.1,17.1,13.5,9.8,21.2,13.9,20.5,18.7,16.4,23.7,30.0,21.1,23.7,24.2,26.2,34.9,28.4,19.2,21.8,7.0,14.6,7.9,20.0,29.0,18.4,23.5,20.2,18.4,31.8,31.1,18.0,18.9,11.5,18.0,23.5,30.2,21.9,14.2,13.8,33.2,3.8,21.9,10.0,17.6,32.2,14.8,6.5,18.7,12.8,16.6,15.6,17.6,41.5,14.3,14.4,21.1,31.6,28.0,68.3,12.2,19.2,16.0,17.8,13.3,14.1,27.7,12.7,7.6,18.1,24.8,32.0,15.5,19.2,8.0,20.7,18.7,19.6,28.8,23.3,27.5,24.1,10.1,21.1,32.2,10.1,5.9,21.8,24.5,19.7,18.7,4.5,18.1,33.8,30.7,11.8,10.1,27.7,25.6,23.6,23.1,23.2,24.1,39.9,9.9,23.7,18.9,14.1,15.6,16.5,12.3,15.9,22.4,22.8,24.0,28.9,26.7,1.5,28.1,28.6,11.9,28.0,11.4,27.5,3.7,27.6,14.6,21.9,13.4,16.5,12.3,10.2,10.5,21.3,23.4,28.1,16.1,7.6,0.1,28.2,16.6,16.8,16.5,21.9,11.1,17.3,23.2,27.3,15.4,35.5,17.8,12.0,13.4,8.5,22.7,21.3,26.0,22.5,30.7,24.7,22.1,23.9,27.0,18.0,11.1,23.2,10.5,22.5,16.9,22.7,18.6,18.6,28.0,10.6,15.5],\"xaxis\":\"x2\",\"y\":[0.306685,0.183328,0.378252,0.270661,0.30623,0.331674,0.251057,0.266608,0.240384,0.403265,0.50291,0.365762,0.203826,0.213359,0.312118,0.226488,0.326773,0.389732,0.172778,0.442031,0.252787,0.405749,0.189237,0.480956,0.294715,0.411371,0.440225,0.272722,0.243658,0.232814,0.396098,0.26764,0.358029,0.30444,0.36397,0.28583,0.483306,0.278144,0.384025,0.344866,0.287267,0.485655,0.349228,0.208712,0.342071,0.181997,0.187575,0.188116,0.330101,0.322747,0.334726,0.366641,0.320209,0.353463,0.430472,0.391844,0.286872,0.357543,0.245232,0.26881,0.332654,0.370934,0.292153,0.210074,0.36172,0.358227,0.129206,0.263018,0.236728,0.326847,0.422497,0.294392,0.176981,0.308755,0.1967,0.38457,0.336018,0.328954,0.465329,0.238707,0.263857,0.254952,0.325672,0.447515,0.657618,0.269829,0.3111,0.290262,0.274484,0.222959,0.206844,0.362741,0.258005,0.213166,0.306673,0.370719,0.406632,0.219628,0.307127,0.211535,0.340169,0.291915,0.285715,0.425403,0.318452,0.354562,0.431195,0.283305,0.297339,0.408218,0.23596,0.16999,0.289124,0.35479,0.249064,0.23593,0.120826,0.230264,0.415415,0.387243,0.237593,0.207264,0.419263,0.293361,0.258272,0.358598,0.324935,0.33353,0.437727,0.192025,0.271426,0.326723,0.285734,0.235108,0.234233,0.243658,0.279374,0.281589,0.405303,0.409443,0.438601,0.434893,0.428141,0.263997,0.365147,0.245642,0.421452,0.191932,0.371216,0.0777,0.415923,0.280473,0.345688,0.229384,0.254189,0.204049,0.320839,0.214605,0.342267,0.319242,0.416764,0.480929,0.191823,0.36051,0.274927,0.242128,0.312875,0.302471,0.340049,0.192915,0.243298,0.328017,0.347545,0.316285,0.482135,0.251699,0.255482,0.294657,0.223535,0.359483,0.308333,0.312059,0.352292,0.348781,0.360129,0.423821,0.372081,0.309177,0.269764,0.172903,0.341371,0.20011,0.249939,0.243981,0.35348,0.282159,0.29479,0.371367,0.266519,0.30463],\"yaxis\":\"y2\",\"type\":\"scatter\"},{\"hovertemplate\":\"trees_crown_den=%{x}\\u003cbr\\u003ePREDICTED_AIRTEMP=%{y}\\u003cextra\\u003e\\u003c\\u002fextra\\u003e\",\"legendgroup\":\"\",\"line\":{\"color\":\"#ff0000\",\"dash\":\"solid\",\"width\":3},\"marker\":{\"symbol\":\"circle\"},\"mode\":\"lines\",\"name\":\"\",\"orientation\":\"v\",\"showlegend\":false,\"x\":[0.1,1.5,3.7,3.8,4.5,5.9,6.5,7.0,7.6,7.6,7.8,7.9,7.9,8.0,8.5,9.8,9.9,9.9,10.0,10.1,10.1,10.1,10.2,10.5,10.5,10.5,10.6,11.0,11.1,11.1,11.4,11.5,11.8,11.9,12.0,12.2,12.3,12.3,12.7,12.7,12.8,13.3,13.4,13.4,13.5,13.5,13.8,13.8,13.9,14.1,14.1,14.2,14.3,14.4,14.5,14.6,14.6,14.8,15.4,15.5,15.5,15.6,15.6,15.7,15.7,15.9,15.9,16.0,16.1,16.4,16.5,16.5,16.5,16.6,16.6,16.8,16.8,16.9,17.1,17.2,17.3,17.6,17.6,17.8,17.8,18.0,18.0,18.0,18.1,18.1,18.4,18.4,18.6,18.6,18.7,18.7,18.7,18.7,18.9,18.9,19.2,19.2,19.2,19.6,19.7,20.0,20.2,20.3,20.5,20.7,21.1,21.1,21.1,21.2,21.3,21.3,21.8,21.8,21.9,21.9,21.9,21.9,22.1,22.4,22.5,22.5,22.5,22.7,22.7,22.8,23.0,23.0,23.1,23.2,23.2,23.2,23.3,23.4,23.5,23.5,23.6,23.7,23.7,23.7,23.9,24.0,24.1,24.1,24.2,24.5,24.6,24.7,24.8,25.0,25.1,25.6,26.0,26.2,26.6,26.7,26.9,27.0,27.1,27.3,27.5,27.5,27.6,27.7,27.7,28.0,28.0,28.0,28.1,28.1,28.2,28.4,28.6,28.8,28.9,29.0,29.5,30.0,30.2,30.7,30.7,31.1,31.6,31.8,32.0,32.2,32.2,33.2,33.8,34.9,35.3,35.5,39.9,41.5,45.8,68.3],\"xaxis\":\"x2\",\"y\":[0.06168153276666999,0.07882266351953149,0.10575872613117099,0.10698309261351824,0.11555365798994899,0.1326947887428105,0.140040987636894,0.14616282004863024,0.15350901894271374,0.15350901894271374,0.15595775190740824,0.1571821183897555,0.1571821183897555,0.15840648487210274,0.164528317283839,0.18044508155435324,0.1816694480367005,0.1816694480367005,0.18289381451904774,0.184118181001395,0.184118181001395,0.184118181001395,0.18534254748374224,0.189015646930784,0.189015646930784,0.189015646930784,0.19024001341313124,0.19513747934252024,0.1963618458248675,0.1963618458248675,0.20003494527190924,0.2012593117542565,0.20493241120129824,0.2061567776836455,0.20738114416599274,0.20982987713068724,0.2110542436130345,0.2110542436130345,0.2159517095424235,0.2159517095424235,0.21717607602477074,0.223297908436507,0.22452227491885424,0.22452227491885424,0.2257466414012015,0.2257466414012015,0.22941974084824324,0.22941974084824324,0.2306441073305905,0.233092840295285,0.233092840295285,0.23431720677763224,0.2355415732599795,0.23676593974232674,0.237990306224674,0.23921467270702124,0.23921467270702124,0.24166340567171574,0.24900960456579924,0.2502339710481465,0.2502339710481465,0.25145833753049374,0.25145833753049374,0.252682704012841,0.252682704012841,0.2551314369775355,0.2551314369775355,0.25635580345988274,0.25758016994223,0.26125326938927174,0.262477635871619,0.262477635871619,0.262477635871619,0.26370200235396624,0.26370200235396624,0.26615073531866074,0.26615073531866074,0.267375101801008,0.2698238347657025,0.27104820124804974,0.272272567730397,0.27594566717743874,0.27594566717743874,0.27839440014213324,0.27839440014213324,0.28084313310682774,0.28084313310682774,0.28084313310682774,0.282067499589175,0.282067499589175,0.28574059903621674,0.28574059903621674,0.28818933200091124,0.28818933200091124,0.2894136984832585,0.2894136984832585,0.2894136984832585,0.2894136984832585,0.291862431447953,0.291862431447953,0.29553553089499474,0.29553553089499474,0.29553553089499474,0.30043299682438374,0.301657363306731,0.30533046275377274,0.30777919571846724,0.3090035622008145,0.311452295165509,0.3139010281302035,0.3187984940595925,0.3187984940595925,0.3187984940595925,0.32002286054193974,0.321247227024287,0.321247227024287,0.32736905943602324,0.32736905943602324,0.3285934259183705,0.3285934259183705,0.3285934259183705,0.3285934259183705,0.331042158883065,0.33471525833010674,0.335939624812454,0.335939624812454,0.335939624812454,0.3383883577771485,0.3383883577771485,0.33961272425949574,0.34206145722419024,0.34206145722419024,0.3432858237065375,0.34451019018888474,0.34451019018888474,0.34451019018888474,0.345734556671232,0.34695892315357924,0.3481832896359265,0.3481832896359265,0.34940765611827374,0.350632022600621,0.350632022600621,0.350632022600621,0.3530807555653155,0.35430512204766273,0.35552948853001,0.35552948853001,0.35675385501235723,0.360426954459399,0.36165132094174623,0.3628756874240935,0.36410005390644073,0.36654878687113523,0.3677731533534825,0.37389498576521873,0.37879245169460773,0.38124118465930223,0.38613865058869123,0.3873630170710385,0.389811750035733,0.39103611651808023,0.3922604830004275,0.394709215965122,0.3971579489298165,0.3971579489298165,0.39838231541216373,0.399606681894511,0.399606681894511,0.40327978134155273,0.40327978134155273,0.40327978134155273,0.4045041478239,0.4045041478239,0.40572851430624723,0.40817724727094173,0.41062598023563623,0.41307471320033073,0.414299079682678,0.41552344616502523,0.4216452785767615,0.42776711098849773,0.43021584395319223,0.4363376763649285,0.4363376763649285,0.4412351422943175,0.44735697470605373,0.44980570767074823,0.45225444063544273,0.4547031736001373,0.4547031736001373,0.4669468384236098,0.4742930373176932,0.487761068623513,0.4926585345529019,0.4951072675175965,0.5489793927408755,0.5685692564584315,0.6212170151993632,0.8966994737274945],\"yaxis\":\"y2\",\"type\":\"scatter\"},{\"hovertemplate\":\"x=%{x}\\u003cbr\\u003ey=%{y}\\u003cextra\\u003e\\u003c\\u002fextra\\u003e\",\"legendgroup\":\"\",\"line\":{\"color\":\"#ff0000\",\"dash\":\"solid\",\"width\":3},\"marker\":{\"symbol\":\"circle\"},\"mode\":\"lines\",\"name\":\"\",\"orientation\":\"v\",\"showlegend\":false,\"x\":[0,1,2,3,4,5,6,7,8,9,10,11,12,13,14,15,16,17,18,19],\"xaxis\":\"x\",\"y\":[1.7539197206497192,1.3779176473617554,1.0713452100753784,0.7847610712051392,0.5185546875,0.2943713068962097,0.14699719846248627,0.10790393501520157,0.1045202761888504,0.10075371712446213,0.09643786400556564,0.09312590211629868,0.08883416652679443,0.08536463975906372,0.08162467181682587,0.0775260329246521,0.07457467168569565,0.07204218953847885,0.06829117983579636,0.06616078317165375],\"yaxis\":\"y\",\"type\":\"scatter\"}],                        {\"template\":{\"data\":{\"histogram2dcontour\":[{\"type\":\"histogram2dcontour\",\"colorbar\":{\"outlinewidth\":0,\"ticks\":\"\"},\"colorscale\":[[0.0,\"#0d0887\"],[0.1111111111111111,\"#46039f\"],[0.2222222222222222,\"#7201a8\"],[0.3333333333333333,\"#9c179e\"],[0.4444444444444444,\"#bd3786\"],[0.5555555555555556,\"#d8576b\"],[0.6666666666666666,\"#ed7953\"],[0.7777777777777778,\"#fb9f3a\"],[0.8888888888888888,\"#fdca26\"],[1.0,\"#f0f921\"]]}],\"choropleth\":[{\"type\":\"choropleth\",\"colorbar\":{\"outlinewidth\":0,\"ticks\":\"\"}}],\"histogram2d\":[{\"type\":\"histogram2d\",\"colorbar\":{\"outlinewidth\":0,\"ticks\":\"\"},\"colorscale\":[[0.0,\"#0d0887\"],[0.1111111111111111,\"#46039f\"],[0.2222222222222222,\"#7201a8\"],[0.3333333333333333,\"#9c179e\"],[0.4444444444444444,\"#bd3786\"],[0.5555555555555556,\"#d8576b\"],[0.6666666666666666,\"#ed7953\"],[0.7777777777777778,\"#fb9f3a\"],[0.8888888888888888,\"#fdca26\"],[1.0,\"#f0f921\"]]}],\"heatmap\":[{\"type\":\"heatmap\",\"colorbar\":{\"outlinewidth\":0,\"ticks\":\"\"},\"colorscale\":[[0.0,\"#0d0887\"],[0.1111111111111111,\"#46039f\"],[0.2222222222222222,\"#7201a8\"],[0.3333333333333333,\"#9c179e\"],[0.4444444444444444,\"#bd3786\"],[0.5555555555555556,\"#d8576b\"],[0.6666666666666666,\"#ed7953\"],[0.7777777777777778,\"#fb9f3a\"],[0.8888888888888888,\"#fdca26\"],[1.0,\"#f0f921\"]]}],\"heatmapgl\":[{\"type\":\"heatmapgl\",\"colorbar\":{\"outlinewidth\":0,\"ticks\":\"\"},\"colorscale\":[[0.0,\"#0d0887\"],[0.1111111111111111,\"#46039f\"],[0.2222222222222222,\"#7201a8\"],[0.3333333333333333,\"#9c179e\"],[0.4444444444444444,\"#bd3786\"],[0.5555555555555556,\"#d8576b\"],[0.6666666666666666,\"#ed7953\"],[0.7777777777777778,\"#fb9f3a\"],[0.8888888888888888,\"#fdca26\"],[1.0,\"#f0f921\"]]}],\"contourcarpet\":[{\"type\":\"contourcarpet\",\"colorbar\":{\"outlinewidth\":0,\"ticks\":\"\"}}],\"contour\":[{\"type\":\"contour\",\"colorbar\":{\"outlinewidth\":0,\"ticks\":\"\"},\"colorscale\":[[0.0,\"#0d0887\"],[0.1111111111111111,\"#46039f\"],[0.2222222222222222,\"#7201a8\"],[0.3333333333333333,\"#9c179e\"],[0.4444444444444444,\"#bd3786\"],[0.5555555555555556,\"#d8576b\"],[0.6666666666666666,\"#ed7953\"],[0.7777777777777778,\"#fb9f3a\"],[0.8888888888888888,\"#fdca26\"],[1.0,\"#f0f921\"]]}],\"surface\":[{\"type\":\"surface\",\"colorbar\":{\"outlinewidth\":0,\"ticks\":\"\"},\"colorscale\":[[0.0,\"#0d0887\"],[0.1111111111111111,\"#46039f\"],[0.2222222222222222,\"#7201a8\"],[0.3333333333333333,\"#9c179e\"],[0.4444444444444444,\"#bd3786\"],[0.5555555555555556,\"#d8576b\"],[0.6666666666666666,\"#ed7953\"],[0.7777777777777778,\"#fb9f3a\"],[0.8888888888888888,\"#fdca26\"],[1.0,\"#f0f921\"]]}],\"mesh3d\":[{\"type\":\"mesh3d\",\"colorbar\":{\"outlinewidth\":0,\"ticks\":\"\"}}],\"scatter\":[{\"fillpattern\":{\"fillmode\":\"overlay\",\"size\":10,\"solidity\":0.2},\"type\":\"scatter\"}],\"parcoords\":[{\"type\":\"parcoords\",\"line\":{\"colorbar\":{\"outlinewidth\":0,\"ticks\":\"\"}}}],\"scatterpolargl\":[{\"type\":\"scatterpolargl\",\"marker\":{\"colorbar\":{\"outlinewidth\":0,\"ticks\":\"\"}}}],\"bar\":[{\"error_x\":{\"color\":\"#2a3f5f\"},\"error_y\":{\"color\":\"#2a3f5f\"},\"marker\":{\"line\":{\"color\":\"#E5ECF6\",\"width\":0.5},\"pattern\":{\"fillmode\":\"overlay\",\"size\":10,\"solidity\":0.2}},\"type\":\"bar\"}],\"scattergeo\":[{\"type\":\"scattergeo\",\"marker\":{\"colorbar\":{\"outlinewidth\":0,\"ticks\":\"\"}}}],\"scatterpolar\":[{\"type\":\"scatterpolar\",\"marker\":{\"colorbar\":{\"outlinewidth\":0,\"ticks\":\"\"}}}],\"histogram\":[{\"marker\":{\"pattern\":{\"fillmode\":\"overlay\",\"size\":10,\"solidity\":0.2}},\"type\":\"histogram\"}],\"scattergl\":[{\"type\":\"scattergl\",\"marker\":{\"colorbar\":{\"outlinewidth\":0,\"ticks\":\"\"}}}],\"scatter3d\":[{\"type\":\"scatter3d\",\"line\":{\"colorbar\":{\"outlinewidth\":0,\"ticks\":\"\"}},\"marker\":{\"colorbar\":{\"outlinewidth\":0,\"ticks\":\"\"}}}],\"scattermapbox\":[{\"type\":\"scattermapbox\",\"marker\":{\"colorbar\":{\"outlinewidth\":0,\"ticks\":\"\"}}}],\"scatterternary\":[{\"type\":\"scatterternary\",\"marker\":{\"colorbar\":{\"outlinewidth\":0,\"ticks\":\"\"}}}],\"scattercarpet\":[{\"type\":\"scattercarpet\",\"marker\":{\"colorbar\":{\"outlinewidth\":0,\"ticks\":\"\"}}}],\"carpet\":[{\"aaxis\":{\"endlinecolor\":\"#2a3f5f\",\"gridcolor\":\"white\",\"linecolor\":\"white\",\"minorgridcolor\":\"white\",\"startlinecolor\":\"#2a3f5f\"},\"baxis\":{\"endlinecolor\":\"#2a3f5f\",\"gridcolor\":\"white\",\"linecolor\":\"white\",\"minorgridcolor\":\"white\",\"startlinecolor\":\"#2a3f5f\"},\"type\":\"carpet\"}],\"table\":[{\"cells\":{\"fill\":{\"color\":\"#EBF0F8\"},\"line\":{\"color\":\"white\"}},\"header\":{\"fill\":{\"color\":\"#C8D4E3\"},\"line\":{\"color\":\"white\"}},\"type\":\"table\"}],\"barpolar\":[{\"marker\":{\"line\":{\"color\":\"#E5ECF6\",\"width\":0.5},\"pattern\":{\"fillmode\":\"overlay\",\"size\":10,\"solidity\":0.2}},\"type\":\"barpolar\"}],\"pie\":[{\"automargin\":true,\"type\":\"pie\"}]},\"layout\":{\"autotypenumbers\":\"strict\",\"colorway\":[\"#636efa\",\"#EF553B\",\"#00cc96\",\"#ab63fa\",\"#FFA15A\",\"#19d3f3\",\"#FF6692\",\"#B6E880\",\"#FF97FF\",\"#FECB52\"],\"font\":{\"color\":\"#2a3f5f\"},\"hovermode\":\"closest\",\"hoverlabel\":{\"align\":\"left\"},\"paper_bgcolor\":\"white\",\"plot_bgcolor\":\"#E5ECF6\",\"polar\":{\"bgcolor\":\"#E5ECF6\",\"angularaxis\":{\"gridcolor\":\"white\",\"linecolor\":\"white\",\"ticks\":\"\"},\"radialaxis\":{\"gridcolor\":\"white\",\"linecolor\":\"white\",\"ticks\":\"\"}},\"ternary\":{\"bgcolor\":\"#E5ECF6\",\"aaxis\":{\"gridcolor\":\"white\",\"linecolor\":\"white\",\"ticks\":\"\"},\"baxis\":{\"gridcolor\":\"white\",\"linecolor\":\"white\",\"ticks\":\"\"},\"caxis\":{\"gridcolor\":\"white\",\"linecolor\":\"white\",\"ticks\":\"\"}},\"coloraxis\":{\"colorbar\":{\"outlinewidth\":0,\"ticks\":\"\"}},\"colorscale\":{\"sequential\":[[0.0,\"#0d0887\"],[0.1111111111111111,\"#46039f\"],[0.2222222222222222,\"#7201a8\"],[0.3333333333333333,\"#9c179e\"],[0.4444444444444444,\"#bd3786\"],[0.5555555555555556,\"#d8576b\"],[0.6666666666666666,\"#ed7953\"],[0.7777777777777778,\"#fb9f3a\"],[0.8888888888888888,\"#fdca26\"],[1.0,\"#f0f921\"]],\"sequentialminus\":[[0.0,\"#0d0887\"],[0.1111111111111111,\"#46039f\"],[0.2222222222222222,\"#7201a8\"],[0.3333333333333333,\"#9c179e\"],[0.4444444444444444,\"#bd3786\"],[0.5555555555555556,\"#d8576b\"],[0.6666666666666666,\"#ed7953\"],[0.7777777777777778,\"#fb9f3a\"],[0.8888888888888888,\"#fdca26\"],[1.0,\"#f0f921\"]],\"diverging\":[[0,\"#8e0152\"],[0.1,\"#c51b7d\"],[0.2,\"#de77ae\"],[0.3,\"#f1b6da\"],[0.4,\"#fde0ef\"],[0.5,\"#f7f7f7\"],[0.6,\"#e6f5d0\"],[0.7,\"#b8e186\"],[0.8,\"#7fbc41\"],[0.9,\"#4d9221\"],[1,\"#276419\"]]},\"xaxis\":{\"gridcolor\":\"white\",\"linecolor\":\"white\",\"ticks\":\"\",\"title\":{\"standoff\":15},\"zerolinecolor\":\"white\",\"automargin\":true,\"zerolinewidth\":2},\"yaxis\":{\"gridcolor\":\"white\",\"linecolor\":\"white\",\"ticks\":\"\",\"title\":{\"standoff\":15},\"zerolinecolor\":\"white\",\"automargin\":true,\"zerolinewidth\":2},\"scene\":{\"xaxis\":{\"backgroundcolor\":\"#E5ECF6\",\"gridcolor\":\"white\",\"linecolor\":\"white\",\"showbackground\":true,\"ticks\":\"\",\"zerolinecolor\":\"white\",\"gridwidth\":2},\"yaxis\":{\"backgroundcolor\":\"#E5ECF6\",\"gridcolor\":\"white\",\"linecolor\":\"white\",\"showbackground\":true,\"ticks\":\"\",\"zerolinecolor\":\"white\",\"gridwidth\":2},\"zaxis\":{\"backgroundcolor\":\"#E5ECF6\",\"gridcolor\":\"white\",\"linecolor\":\"white\",\"showbackground\":true,\"ticks\":\"\",\"zerolinecolor\":\"white\",\"gridwidth\":2}},\"shapedefaults\":{\"line\":{\"color\":\"#2a3f5f\"}},\"annotationdefaults\":{\"arrowcolor\":\"#2a3f5f\",\"arrowhead\":0,\"arrowwidth\":1},\"geo\":{\"bgcolor\":\"white\",\"landcolor\":\"#E5ECF6\",\"subunitcolor\":\"white\",\"showland\":true,\"showlakes\":true,\"lakecolor\":\"white\"},\"title\":{\"x\":0.05},\"mapbox\":{\"style\":\"light\"}}},\"xaxis\":{\"anchor\":\"y\",\"domain\":[0.0,0.45],\"title\":{\"text\":\"Epoch\"}},\"yaxis\":{\"anchor\":\"x\",\"domain\":[0.0,1.0],\"title\":{\"text\":\"Root Mean Squared Error\"},\"range\":[0.052928626537323,1.7539197206497192]},\"xaxis2\":{\"anchor\":\"y2\",\"domain\":[0.55,1.0],\"title\":{\"text\":\"trees_crown_den\"}},\"yaxis2\":{\"anchor\":\"x2\",\"domain\":[0.0,1.0],\"title\":{\"text\":\"ndvi\"}},\"annotations\":[{\"font\":{\"size\":16},\"showarrow\":false,\"text\":\"Loss Curve\",\"x\":0.225,\"xanchor\":\"center\",\"xref\":\"paper\",\"y\":1.0,\"yanchor\":\"bottom\",\"yref\":\"paper\"},{\"font\":{\"size\":16},\"showarrow\":false,\"text\":\"Model Plot\",\"x\":0.775,\"xanchor\":\"center\",\"xref\":\"paper\",\"y\":1.0,\"yanchor\":\"bottom\",\"yref\":\"paper\"}]},                        {\"responsive\": true}                    ).then(function(){\n",
       "                            \n",
       "var gd = document.getElementById('99df7169-7b23-4595-95ec-a2c82531654b');\n",
       "var x = new MutationObserver(function (mutations, observer) {{\n",
       "        var display = window.getComputedStyle(gd).display;\n",
       "        if (!display || display === 'none') {{\n",
       "            console.log([gd, 'removed!']);\n",
       "            Plotly.purge(gd);\n",
       "            observer.disconnect();\n",
       "        }}\n",
       "}});\n",
       "\n",
       "// Listen for the removal of the full notebook cells\n",
       "var notebookContainer = gd.closest('#notebook-container');\n",
       "if (notebookContainer) {{\n",
       "    x.observe(notebookContainer, {childList: true});\n",
       "}}\n",
       "\n",
       "// Listen for the clearing of the current output cell\n",
       "var outputEl = gd.closest('.output');\n",
       "if (outputEl) {{\n",
       "    x.observe(outputEl, {childList: true});\n",
       "}}\n",
       "\n",
       "                        })                };                });            </script>        </div>"
      ]
     },
     "metadata": {},
     "output_type": "display_data"
    }
   ],
   "source": [
    "#@title Code - Experiment 1\n",
    "import numpy as np\n",
    "training_df = training_df.dropna(subset=features + [label])\n",
    "\n",
    "# The following variables are the hyperparameters.\n",
    "learning_rate = 0.001\n",
    "epochs = 20\n",
    "batch_size = 50\n",
    "\n",
    "# Specify the feature and the label.\n",
    "features = ['trees_crown_den']\n",
    "label = 'ndvi'  # Replace with actual column name you want to predict\n",
    "\n",
    "model_1 = run_experiment(training_df, features, label, learning_rate, epochs, batch_size)"
   ]
  },
  {
   "cell_type": "code",
   "execution_count": null,
   "id": "3e67b558-c93e-420d-9370-b833a386256b",
   "metadata": {},
   "outputs": [],
   "source": []
  }
 ],
 "metadata": {
  "kernelspec": {
   "display_name": "Python [conda env:base] *",
   "language": "python",
   "name": "conda-base-py"
  },
  "language_info": {
   "codemirror_mode": {
    "name": "ipython",
    "version": 3
   },
   "file_extension": ".py",
   "mimetype": "text/x-python",
   "name": "python",
   "nbconvert_exporter": "python",
   "pygments_lexer": "ipython3",
   "version": "3.12.7"
  }
 },
 "nbformat": 4,
 "nbformat_minor": 5
}
